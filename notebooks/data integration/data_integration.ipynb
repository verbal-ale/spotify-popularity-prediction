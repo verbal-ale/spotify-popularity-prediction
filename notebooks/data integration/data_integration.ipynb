{
 "cells": [
  {
   "cell_type": "markdown",
   "id": "8811e9b7",
   "metadata": {},
   "source": [
    "# Data Integration"
   ]
  },
  {
   "cell_type": "markdown",
   "id": "c96f6d03",
   "metadata": {},
   "source": [
    "This notebook takes the raw data from the [10+ M. Beatport Tracks / Spotify Audio Features](https://www.kaggle.com/datasets/mcfurland/10-m-beatport-tracks-spotify-audio-features), combines into a single .csv file along with the popularity we obtained from Spotify for each individual track. "
   ]
  },
  {
   "cell_type": "markdown",
   "id": "23cd4cc7",
   "metadata": {},
   "source": [
    "## Requirements"
   ]
  },
  {
   "cell_type": "markdown",
   "id": "9fc926ae",
   "metadata": {},
   "source": [
    "As we are currently experiencing trouble with Git Large File System, we are working with large files locally. The following raw data files need to be present in the folder:\n",
    "```\n",
    "'.../data/raw kaggle data/'\n",
    "```\n",
    "in order to generate the final dataset used:\n",
    "\n",
    "| File Name                | Link                                                                                       |\n",
    "| -------------------------|------------------------------------------------------------------------------------------- |\n",
    "| `audio_features.csv`     | [Download](https://www.kaggle.com/datasets/mcfurland/10-m-beatport-tracks-spotify-audio-features/?select=audio_features.csv) |\n",
    "| `sp_artist.csv`          | [Download](https://www.kaggle.com/datasets/mcfurland/10-m-beatport-tracks-spotify-audio-features/?select=sp_artist.csv) |\n",
    "| `sp_release.csv`         | [Download](https://www.kaggle.com/datasets/mcfurland/10-m-beatport-tracks-spotify-audio-features/?select=sp_release.csv) |\n",
    "| `sp_track.csv`           | [Download](https://www.kaggle.com/datasets/mcfurland/10-m-beatport-tracks-spotify-audio-features/?select=sp_track.csv) |\n",
    "| `sp_artist_release.csv`  | [Download](https://www.kaggle.com/datasets/mcfurland/10-m-beatport-tracks-spotify-audio-features/?select=sp_artist_release.csv) |"
   ]
  },
  {
   "cell_type": "markdown",
   "id": "4236dc86",
   "metadata": {},
   "source": [
    "## Process\n",
    "\n",
    "1. Select popular releases of type single\n",
    "2. Extract all tracks from these releases\n",
    "3. Add individual track popularity obtained from Spotify Web API\n",
    "4. Add track data from remaining CSV files \n",
    "5. Clean up the final set"
   ]
  },
  {
   "cell_type": "markdown",
   "id": "a50aa01f",
   "metadata": {},
   "source": [
    "#### Notebook set up\n",
    "\n",
    "**IMPORTANT!** ONLY RUN ONCE AT THE START!"
   ]
  },
  {
   "cell_type": "code",
   "execution_count": 1,
   "id": "dca4f8fa",
   "metadata": {},
   "outputs": [],
   "source": [
    "import os\n",
    "import pandas as pd\n",
    "\n",
    "# IMORTANT! ONLY RUN THIS CELL ONCE\n",
    "repo_dir = os.getcwd()[:-26]\n",
    "\n",
    "# Use os.path.join for creating file paths\n",
    "repo_dir = os.path.dirname(os.getcwd())\n",
    "data_dir = os.path.join(repo_dir, '../data')\n",
    "raw_data_dir = os.path.join(data_dir, 'raw kaggle data')\n",
    "chunks_popularity_dir = os.path.join(data_dir, 'chunks_popularity')\n",
    "\n",
    "os.chdir(raw_data_dir)"
   ]
  },
  {
   "cell_type": "markdown",
   "id": "e0fd8c83",
   "metadata": {},
   "source": [
    "You will need 4GB of free RAM to load all raw data files into data frames."
   ]
  },
  {
   "cell_type": "code",
   "execution_count": 2,
   "id": "24c77b20",
   "metadata": {},
   "outputs": [],
   "source": [
    "# Load all relevant .csv files\n",
    "sp_release_df= pd.read_csv(\"sp_release.csv\")\n",
    "sp_track_df = pd.read_csv(\"sp_track.csv\")\n",
    "sp_artist_df = pd.read_csv(\"sp_artist.csv\")\n",
    "sp_artist_release_df = pd.read_csv(\"sp_artist_release.csv\")\n",
    "audio_features_df = pd.read_csv(\"audio_features.csv\")"
   ]
  },
  {
   "cell_type": "code",
   "execution_count": 3,
   "id": "69bc7813",
   "metadata": {},
   "outputs": [],
   "source": [
    "# We obtained popularity for indivudial songs in chunks of 5000 tracks. See README.md for more details\n",
    "\n",
    "# Initialize an empty list to store DataFrames\n",
    "dfs = []\n",
    "\n",
    "# List all CSV files in the \"...data/chunks_popularity/\"folder\n",
    "csv_files = [file for file in os.listdir(chunks_popularity_dir) if file.endswith('.csv')]\n",
    "\n",
    "# Loop through the CSV files and read them into DataFrames\n",
    "for file in csv_files:\n",
    "    file_path = os.path.join(chunks_popularity_dir, file)\n",
    "    df = pd.read_csv(file_path)\n",
    "    dfs.append(df)\n",
    "\n",
    "# Concatenate all the DataFrames into a single DataFrame\n",
    "popularity_tracks_df = pd.concat(dfs, ignore_index=True)"
   ]
  },
  {
   "cell_type": "markdown",
   "id": "cd2990d6",
   "metadata": {},
   "source": [
    "### 1. Select popular releases of type single"
   ]
  },
  {
   "cell_type": "code",
   "execution_count": 4,
   "id": "9a73869b",
   "metadata": {},
   "outputs": [
    {
     "name": "stdout",
     "output_type": "stream",
     "text": [
      "<class 'pandas.core.frame.DataFrame'>\n",
      "Index: 119983 entries, 37 to 713562\n",
      "Data columns (total 10 columns):\n",
      " #   Column         Non-Null Count   Dtype  \n",
      "---  ------         --------------   -----  \n",
      " 0   release_id     119983 non-null  object \n",
      " 1   release_title  119982 non-null  object \n",
      " 2   release_date   119983 non-null  object \n",
      " 3   upc            119980 non-null  float64\n",
      " 4   popularity     119983 non-null  int64  \n",
      " 5   total_tracks   119983 non-null  int64  \n",
      " 6   album_type     119983 non-null  object \n",
      " 7   release_img    119974 non-null  object \n",
      " 8   label_name     119982 non-null  object \n",
      " 9   updated_on     119983 non-null  object \n",
      "dtypes: float64(1), int64(2), object(7)\n",
      "memory usage: 10.1+ MB\n"
     ]
    }
   ],
   "source": [
    "# Select only releases of type single that have some popularity \n",
    "sp_release_singles_df = sp_release_df.groupby(sp_release_df['album_type']).get_group('single')\n",
    "popular_singles_df = sp_release_singles_df[sp_release_singles_df['popularity']!=0]\n",
    "popular_singles_df.info()"
   ]
  },
  {
   "cell_type": "markdown",
   "id": "3fcfc621",
   "metadata": {},
   "source": [
    "### 2. Extract all tracks from these releases"
   ]
  },
  {
   "cell_type": "code",
   "execution_count": 5,
   "id": "d3321fbf",
   "metadata": {},
   "outputs": [
    {
     "name": "stdout",
     "output_type": "stream",
     "text": [
      "<class 'pandas.core.frame.DataFrame'>\n",
      "Index: 507644 entries, 1312 to 5777704\n",
      "Data columns (total 6 columns):\n",
      " #   Column       Non-Null Count   Dtype \n",
      "---  ------       --------------   ----- \n",
      " 0   track_id     507644 non-null  object\n",
      " 1   isrc         507639 non-null  object\n",
      " 2   explicit     507644 non-null  object\n",
      " 3   track_title  507641 non-null  object\n",
      " 4   preview_url  502144 non-null  object\n",
      " 5   release_id   507644 non-null  object\n",
      "dtypes: object(6)\n",
      "memory usage: 27.1+ MB\n"
     ]
    }
   ],
   "source": [
    "#Filtering on release_id and retaining relevant features\n",
    "\n",
    "filter_ids = popular_singles_df['release_id'].values\n",
    "\n",
    "mask = sp_track_df['release_id'].isin(filter_ids)\n",
    "\n",
    "filtered_data_ids = sp_track_df.loc[mask, 'track_id']\n",
    "filtered_data_isrc = sp_track_df.loc[mask, 'isrc']\n",
    "filtered_data_explicit = sp_track_df.loc[mask, 'explicit']\n",
    "filtered_data_title = sp_track_df.loc[mask, 'track_title'] \n",
    "filtered_data_sample = sp_track_df.loc[mask, 'preview_url']\n",
    "filtered_data_release_id = sp_track_df.loc[mask, 'release_id']\n",
    "\n",
    "popular_tracks_df = pd.DataFrame({\n",
    "    'track_id': filtered_data_ids, \n",
    "    'isrc': filtered_data_isrc, \n",
    "    'explicit': filtered_data_explicit,\n",
    "    'track_title': filtered_data_title,\n",
    "    'preview_url' : filtered_data_sample,\n",
    "    'release_id': filtered_data_release_id})\n",
    "popular_tracks_df.info()"
   ]
  },
  {
   "cell_type": "code",
   "execution_count": 6,
   "id": "e313420b",
   "metadata": {},
   "outputs": [],
   "source": [
    "# Later on will be merging on isrc so we:\n",
    "popular_tracks_df = popular_tracks_df.dropna(subset=['isrc'])\n",
    "popular_tracks_df = popular_tracks_df.drop_duplicates(subset=['isrc'])"
   ]
  },
  {
   "cell_type": "code",
   "execution_count": 7,
   "id": "10d68c53",
   "metadata": {},
   "outputs": [
    {
     "name": "stdout",
     "output_type": "stream",
     "text": [
      "<class 'pandas.core.frame.DataFrame'>\n",
      "RangeIndex: 505757 entries, 0 to 505756\n",
      "Data columns (total 15 columns):\n",
      " #   Column                   Non-Null Count   Dtype  \n",
      "---  ------                   --------------   -----  \n",
      " 0   track_id                 505757 non-null  object \n",
      " 1   isrc                     505757 non-null  object \n",
      " 2   explicit                 505757 non-null  object \n",
      " 3   track_title              505754 non-null  object \n",
      " 4   preview_url              500285 non-null  object \n",
      " 5   release_id               505757 non-null  object \n",
      " 6   release_title            505756 non-null  object \n",
      " 7   release_date             505757 non-null  object \n",
      " 8   upc                      505741 non-null  float64\n",
      " 9   release_popularity       505757 non-null  int64  \n",
      " 10  total_tracks_in_release  505757 non-null  int64  \n",
      " 11  album_type               505757 non-null  object \n",
      " 12  release_img              505720 non-null  object \n",
      " 13  label_name               505753 non-null  object \n",
      " 14  updated_on               505757 non-null  object \n",
      "dtypes: float64(1), int64(2), object(12)\n",
      "memory usage: 57.9+ MB\n"
     ]
    }
   ],
   "source": [
    "# Now we merge the two to get a dataframe with all tracks contained in a popular single release\n",
    "merged_popular_tracks_df = pd.merge(popular_tracks_df, popular_singles_df, on='release_id', how='left')\n",
    "\n",
    "# Rename 'popularity' to 'release_popularity' to avoid confusion (same for total_tracks)\n",
    "merged_popular_tracks_df = merged_popular_tracks_df.rename(columns={\n",
    "    'popularity':'release_popularity', \n",
    "    'total_tracks':'total_tracks_in_release'})\n",
    "merged_popular_tracks_df.info()"
   ]
  },
  {
   "cell_type": "markdown",
   "id": "470868ba",
   "metadata": {},
   "source": [
    "### 3.Add individual track popularity obtained from Spotify Web API"
   ]
  },
  {
   "cell_type": "code",
   "execution_count": 8,
   "id": "7c4b9e81",
   "metadata": {},
   "outputs": [
    {
     "name": "stdout",
     "output_type": "stream",
     "text": [
      "<class 'pandas.core.frame.DataFrame'>\n",
      "RangeIndex: 505694 entries, 0 to 505693\n",
      "Data columns (total 5 columns):\n",
      " #   Column      Non-Null Count   Dtype  \n",
      "---  ------      --------------   -----  \n",
      " 0   track_id    505694 non-null  object \n",
      " 1   popularity  378050 non-null  float64\n",
      " 2   Popularity  127644 non-null  float64\n",
      " 3   updated_on  39551 non-null   object \n",
      " 4   udated_on   115000 non-null  object \n",
      "dtypes: float64(2), object(3)\n",
      "memory usage: 19.3+ MB\n"
     ]
    }
   ],
   "source": [
    "popularity_tracks_df.info()"
   ]
  },
  {
   "cell_type": "markdown",
   "id": "4819bc82",
   "metadata": {},
   "source": [
    "Problem: We have created two different columns because of the spelling differences so it automatically assigns NaN values to the other one."
   ]
  },
  {
   "cell_type": "code",
   "execution_count": 9,
   "id": "3ac97331",
   "metadata": {},
   "outputs": [
    {
     "name": "stdout",
     "output_type": "stream",
     "text": [
      "<class 'pandas.core.frame.DataFrame'>\n",
      "RangeIndex: 505694 entries, 0 to 505693\n",
      "Data columns (total 2 columns):\n",
      " #   Column      Non-Null Count   Dtype  \n",
      "---  ------      --------------   -----  \n",
      " 0   track_id    505694 non-null  object \n",
      " 1   popularity  505694 non-null  float64\n",
      "dtypes: float64(1), object(1)\n",
      "memory usage: 7.7+ MB\n"
     ]
    }
   ],
   "source": [
    "# Combined the \"Popularity\" and \"popularity\" columns into a new column called \"Combined_Popularity\"\n",
    "popularity_tracks_df['Combined_Popularity'] = popularity_tracks_df['Popularity'].fillna(popularity_tracks_df['popularity'])\n",
    "\n",
    "# Dropping the original \"Popularity\" and \"popularity\" columns\n",
    "popularity_tracks_df.drop(['Popularity', 'popularity','udated_on', 'updated_on',], axis=1, inplace=True)\n",
    "\n",
    "popularity_tracks_df = popularity_tracks_df.rename(columns={'Combined_Popularity': 'popularity'})\n",
    "popularity_tracks_df.info()"
   ]
  },
  {
   "cell_type": "code",
   "execution_count": 10,
   "id": "0c0a9338",
   "metadata": {},
   "outputs": [
    {
     "name": "stdout",
     "output_type": "stream",
     "text": [
      "<class 'pandas.core.frame.DataFrame'>\n",
      "RangeIndex: 505757 entries, 0 to 505756\n",
      "Data columns (total 15 columns):\n",
      " #   Column                   Non-Null Count   Dtype  \n",
      "---  ------                   --------------   -----  \n",
      " 0   track_id                 505757 non-null  object \n",
      " 1   isrc                     505757 non-null  object \n",
      " 2   explicit                 505757 non-null  object \n",
      " 3   track_title              505754 non-null  object \n",
      " 4   preview_url              500285 non-null  object \n",
      " 5   release_id               505757 non-null  object \n",
      " 6   release_title            505756 non-null  object \n",
      " 7   release_date             505757 non-null  object \n",
      " 8   upc                      505741 non-null  float64\n",
      " 9   release_popularity       505757 non-null  int64  \n",
      " 10  total_tracks_in_release  505757 non-null  int64  \n",
      " 11  album_type               505757 non-null  object \n",
      " 12  release_img              505720 non-null  object \n",
      " 13  label_name               505753 non-null  object \n",
      " 14  updated_on               505757 non-null  object \n",
      "dtypes: float64(1), int64(2), object(12)\n",
      "memory usage: 57.9+ MB\n"
     ]
    }
   ],
   "source": [
    "merged_popular_tracks_df.info()"
   ]
  },
  {
   "cell_type": "code",
   "execution_count": 11,
   "id": "4bdfb70b",
   "metadata": {},
   "outputs": [
    {
     "name": "stdout",
     "output_type": "stream",
     "text": [
      "<class 'pandas.core.frame.DataFrame'>\n",
      "Index: 498826 entries, 0 to 510748\n",
      "Data columns (total 16 columns):\n",
      " #   Column                   Non-Null Count   Dtype  \n",
      "---  ------                   --------------   -----  \n",
      " 0   track_id                 498826 non-null  object \n",
      " 1   isrc                     498826 non-null  object \n",
      " 2   explicit                 498826 non-null  object \n",
      " 3   track_title              498823 non-null  object \n",
      " 4   preview_url              493391 non-null  object \n",
      " 5   release_id               498826 non-null  object \n",
      " 6   release_title            498825 non-null  object \n",
      " 7   release_date             498826 non-null  object \n",
      " 8   upc                      498810 non-null  float64\n",
      " 9   release_popularity       498826 non-null  int64  \n",
      " 10  total_tracks_in_release  498826 non-null  int64  \n",
      " 11  album_type               498826 non-null  object \n",
      " 12  release_img              498789 non-null  object \n",
      " 13  label_name               498822 non-null  object \n",
      " 14  updated_on               498826 non-null  object \n",
      " 15  popularity               498826 non-null  float64\n",
      "dtypes: float64(2), int64(2), object(12)\n",
      "memory usage: 64.7+ MB\n"
     ]
    }
   ],
   "source": [
    "# Now we merge the two to get a dataframe with all tracks contained in a popular single release\n",
    "merged_popular_tracks_df = pd.merge(merged_popular_tracks_df, popularity_tracks_df, on='track_id', how='left')\n",
    "merged_popular_tracks_df = merged_popular_tracks_df.drop_duplicates(subset=['isrc'])\n",
    "merged_popular_tracks_df = merged_popular_tracks_df.dropna(subset=['popularity'])\n",
    "merged_popular_tracks_df.info()"
   ]
  },
  {
   "cell_type": "markdown",
   "id": "8458589e",
   "metadata": {},
   "source": [
    "### 4. Add track data from remaining CSV files "
   ]
  },
  {
   "cell_type": "code",
   "execution_count": 12,
   "id": "9abb195f",
   "metadata": {
    "scrolled": true
   },
   "outputs": [
    {
     "name": "stdout",
     "output_type": "stream",
     "text": [
      "<class 'pandas.core.frame.DataFrame'>\n",
      "RangeIndex: 489524 entries, 0 to 489523\n",
      "Data columns (total 30 columns):\n",
      " #   Column                   Non-Null Count   Dtype  \n",
      "---  ------                   --------------   -----  \n",
      " 0   track_id                 489524 non-null  object \n",
      " 1   isrc                     489524 non-null  object \n",
      " 2   explicit                 489524 non-null  object \n",
      " 3   track_title              489521 non-null  object \n",
      " 4   preview_url              484327 non-null  object \n",
      " 5   release_id               489524 non-null  object \n",
      " 6   release_title            489523 non-null  object \n",
      " 7   release_date             489524 non-null  object \n",
      " 8   upc                      489508 non-null  float64\n",
      " 9   release_popularity       489524 non-null  int64  \n",
      " 10  total_tracks_in_release  489524 non-null  int64  \n",
      " 11  album_type               489524 non-null  object \n",
      " 12  release_img              489487 non-null  object \n",
      " 13  label_name               489520 non-null  object \n",
      " 14  updated_on_x             489524 non-null  object \n",
      " 15  popularity               489524 non-null  float64\n",
      " 16  acousticness             489524 non-null  float64\n",
      " 17  danceability             489524 non-null  float64\n",
      " 18  duration_ms              489524 non-null  int64  \n",
      " 19  energy                   489524 non-null  float64\n",
      " 20  instrumentalness         489524 non-null  float64\n",
      " 21  key                      489524 non-null  int64  \n",
      " 22  liveness                 489524 non-null  float64\n",
      " 23  loudness                 489524 non-null  float64\n",
      " 24  mode                     489524 non-null  int64  \n",
      " 25  speechiness              489524 non-null  float64\n",
      " 26  tempo                    489524 non-null  int64  \n",
      " 27  time_signature           489524 non-null  int64  \n",
      " 28  valence                  489524 non-null  float64\n",
      " 29  updated_on_y             489524 non-null  object \n",
      "dtypes: float64(10), int64(7), object(13)\n",
      "memory usage: 112.0+ MB\n"
     ]
    }
   ],
   "source": [
    "# Add audio features to the tracks\n",
    "popular_tracks_w_audio_features_df = pd.merge(\n",
    "    merged_popular_tracks_df,\n",
    "    audio_features_df,\n",
    "    on=\"isrc\",\n",
    "    how='inner')\n",
    "popular_tracks_w_audio_features_df.info()"
   ]
  },
  {
   "cell_type": "code",
   "execution_count": 13,
   "id": "f66b84dc",
   "metadata": {},
   "outputs": [
    {
     "name": "stdout",
     "output_type": "stream",
     "text": [
      "<class 'pandas.core.frame.DataFrame'>\n",
      "RangeIndex: 676911 entries, 0 to 676910\n",
      "Data columns (total 3 columns):\n",
      " #   Column       Non-Null Count   Dtype \n",
      "---  ------       --------------   ----- \n",
      " 0   artist_id    676911 non-null  object\n",
      " 1   artist_name  676900 non-null  object\n",
      " 2   updated_on   676911 non-null  object\n",
      "dtypes: object(3)\n",
      "memory usage: 15.5+ MB\n"
     ]
    }
   ],
   "source": [
    "sp_artist_df.info()"
   ]
  },
  {
   "cell_type": "code",
   "execution_count": 14,
   "id": "97a4ccea",
   "metadata": {},
   "outputs": [
    {
     "name": "stdout",
     "output_type": "stream",
     "text": [
      "<class 'pandas.core.frame.DataFrame'>\n",
      "RangeIndex: 3969489 entries, 0 to 3969488\n",
      "Data columns (total 3 columns):\n",
      " #   Column      Dtype \n",
      "---  ------      ----- \n",
      " 0   release_id  object\n",
      " 1   artist_id   object\n",
      " 2   updated_on  object\n",
      "dtypes: object(3)\n",
      "memory usage: 90.9+ MB\n"
     ]
    }
   ],
   "source": [
    "sp_artist_release_df.info()"
   ]
  },
  {
   "cell_type": "code",
   "execution_count": 15,
   "id": "5fa26b6d",
   "metadata": {},
   "outputs": [
    {
     "name": "stdout",
     "output_type": "stream",
     "text": [
      "<class 'pandas.core.frame.DataFrame'>\n",
      "RangeIndex: 3969489 entries, 0 to 3969488\n",
      "Data columns (total 5 columns):\n",
      " #   Column        Dtype \n",
      "---  ------        ----- \n",
      " 0   artist_id     object\n",
      " 1   artist_name   object\n",
      " 2   updated_on_x  object\n",
      " 3   release_id    object\n",
      " 4   updated_on_y  object\n",
      "dtypes: object(5)\n",
      "memory usage: 151.4+ MB\n"
     ]
    }
   ],
   "source": [
    "# Merge the artists with their releases\n",
    "sp_artist_df = pd.merge(sp_artist_df, sp_artist_release_df, on='artist_id', how='left')\n",
    "sp_artist_df.info()"
   ]
  },
  {
   "cell_type": "code",
   "execution_count": 16,
   "id": "881a1fe3",
   "metadata": {
    "scrolled": false
   },
   "outputs": [
    {
     "name": "stdout",
     "output_type": "stream",
     "text": [
      "<class 'pandas.core.frame.DataFrame'>\n",
      "Index: 489524 entries, 0 to 1407325\n",
      "Data columns (total 34 columns):\n",
      " #   Column                   Non-Null Count   Dtype  \n",
      "---  ------                   --------------   -----  \n",
      " 0   track_id                 489524 non-null  object \n",
      " 1   isrc                     489524 non-null  object \n",
      " 2   explicit                 489524 non-null  object \n",
      " 3   track_title              489521 non-null  object \n",
      " 4   preview_url              484327 non-null  object \n",
      " 5   release_id               489524 non-null  object \n",
      " 6   release_title            489523 non-null  object \n",
      " 7   release_date             489524 non-null  object \n",
      " 8   upc                      489508 non-null  float64\n",
      " 9   release_popularity       489524 non-null  int64  \n",
      " 10  total_tracks_in_release  489524 non-null  int64  \n",
      " 11  album_type               489524 non-null  object \n",
      " 12  release_img              489487 non-null  object \n",
      " 13  label_name               489520 non-null  object \n",
      " 14  updated_on_x_x           489524 non-null  object \n",
      " 15  popularity               489524 non-null  float64\n",
      " 16  acousticness             489524 non-null  float64\n",
      " 17  danceability             489524 non-null  float64\n",
      " 18  duration_ms              489524 non-null  int64  \n",
      " 19  energy                   489524 non-null  float64\n",
      " 20  instrumentalness         489524 non-null  float64\n",
      " 21  key                      489524 non-null  int64  \n",
      " 22  liveness                 489524 non-null  float64\n",
      " 23  loudness                 489524 non-null  float64\n",
      " 24  mode                     489524 non-null  int64  \n",
      " 25  speechiness              489524 non-null  float64\n",
      " 26  tempo                    489524 non-null  int64  \n",
      " 27  time_signature           489524 non-null  int64  \n",
      " 28  valence                  489524 non-null  float64\n",
      " 29  updated_on_y_x           489524 non-null  object \n",
      " 30  artist_id                489524 non-null  object \n",
      " 31  artist_name              489524 non-null  object \n",
      " 32  updated_on_x_y           489524 non-null  object \n",
      " 33  updated_on_y_y           489524 non-null  object \n",
      "dtypes: float64(10), int64(7), object(17)\n",
      "memory usage: 130.7+ MB\n"
     ]
    }
   ],
   "source": [
    "# Now merge everything to produce the final set\n",
    "final_set_df = pd.merge(popular_tracks_w_audio_features_df, sp_artist_df, on='release_id', how='left')\n",
    "final_set_df = final_set_df.drop_duplicates(subset=['isrc'])\n",
    "final_set_df.info()"
   ]
  },
  {
   "cell_type": "code",
   "execution_count": 17,
   "metadata": {},
   "outputs": [
    {
     "name": "stdout",
     "output_type": "stream",
     "text": [
      "                                         preview_url                track_id\n",
      "0  https://p.scdn.co/mp3-preview/5089e683a4b81f8f...  1TJfx5wZrjAtvGc2LcRD50\n",
      "1  https://p.scdn.co/mp3-preview/bb53801d7b939b2b...  1UmipCq9fDAl0457eOrnAq\n",
      "2  https://p.scdn.co/mp3-preview/7f0559e58f37f040...  3gTN5N6qtxokiy1MSAyRHf\n",
      "3  https://p.scdn.co/mp3-preview/7c15952f6d283d15...  6f43tdfJ9BlUBLzvKim98A\n",
      "4  https://p.scdn.co/mp3-preview/1883d8ef8a5628f0...  6QXxvRGql81hrkNKl1sJNy\n"
     ]
    }
   ],
   "source": [
    "#Load new dataset for preview_url\n",
    "preview_url_df = pd.read_csv(\"preview_url.csv\")\n",
    "print(preview_url_df.head())"
   ]
  },
  {
   "cell_type": "code",
   "execution_count": 18,
   "metadata": {},
   "outputs": [
    {
     "name": "stdout",
     "output_type": "stream",
     "text": [
      "                 track_id          isrc explicit  \\\n",
      "0  1TJfx5wZrjAtvGc2LcRD50  NLE800510140        t   \n",
      "1  3gTN5N6qtxokiy1MSAyRHf  NLE800510143        t   \n",
      "2  6QXxvRGql81hrkNKl1sJNy  GBKQU1986237        f   \n",
      "3  6R5Ut5Mb88EqyLLiNaIOD0  NLE802200356        f   \n",
      "4  7o7Qx3kulN6A0uOaAPf5Vz  NLE802200334        f   \n",
      "\n",
      "                       track_title  \\\n",
      "0           XTC Love - Radio Mix 1   \n",
      "1          XTC Love - Original Mix   \n",
      "2                          blinded   \n",
      "3  Time To Dance Again - Arena Mix   \n",
      "4              Time To Dance Again   \n",
      "\n",
      "                                         preview_url              release_id  \\\n",
      "0  https://p.scdn.co/mp3-preview/5089e683a4b81f8f...  1X5sxCP21FYyT1G4laJRPa   \n",
      "1  https://p.scdn.co/mp3-preview/7f0559e58f37f040...  1X5sxCP21FYyT1G4laJRPa   \n",
      "2  https://p.scdn.co/mp3-preview/1883d8ef8a5628f0...  1CBV9MWSJ4hzlG7FswiFhS   \n",
      "3  https://p.scdn.co/mp3-preview/6b57227204be23bd...  2Ai0JEUm1XYMsOMWMHgnod   \n",
      "4  https://p.scdn.co/mp3-preview/4229181352cb0c16...  2Ai0JEUm1XYMsOMWMHgnod   \n",
      "\n",
      "         release_title release_date           upc  release_popularity  ...  \\\n",
      "0   XTC Love (Remixes)         1995  8.715576e+12                  25  ...   \n",
      "1   XTC Love (Remixes)         1995  8.715576e+12                  25  ...   \n",
      "2              blinded   2019-09-13  5.054285e+12                  11  ...   \n",
      "3  Time To Dance Again   2022-07-28  8.715576e+12                  23  ...   \n",
      "4  Time To Dance Again   2022-07-28  8.715576e+12                  23  ...   \n",
      "\n",
      "   mode speechiness tempo time_signature valence       updated_on_y_x  \\\n",
      "0     1      0.0622   174              4   0.751  2023-08-28 18:28:29   \n",
      "1     0      0.1280   166              4   0.281  2023-08-28 18:28:29   \n",
      "2     1      0.0345    82              4   0.119  2023-08-24 09:34:11   \n",
      "3     0      0.3410   146              4   0.102  2023-08-24 09:35:14   \n",
      "4     1      0.1800    75              4   0.190  2023-08-24 09:35:14   \n",
      "\n",
      "                artist_id           artist_name       updated_on_x_y  \\\n",
      "0  3rHHWDHE0Nh2ulbinBUT7L  Bertocucci Feranzano  2023-08-22 18:08:59   \n",
      "1  3rHHWDHE0Nh2ulbinBUT7L  Bertocucci Feranzano  2023-08-22 18:08:59   \n",
      "2  2EuvmrUgxr2p9iV0aALuUn                 Evate  2023-08-22 18:09:04   \n",
      "3  6C0KWmCdqrLU2LzzWBPbOy           Headhunterz  2023-08-22 18:09:04   \n",
      "4  6C0KWmCdqrLU2LzzWBPbOy           Headhunterz  2023-08-22 18:09:04   \n",
      "\n",
      "        updated_on_y_y  \n",
      "0  2023-08-22 18:08:59  \n",
      "1  2023-08-22 18:08:59  \n",
      "2  2023-08-22 18:09:04  \n",
      "3  2023-08-22 18:09:04  \n",
      "4  2023-08-22 18:09:04  \n",
      "\n",
      "[5 rows x 34 columns]\n"
     ]
    }
   ],
   "source": [
    "# Merge the new preview URL data into the final dataset using track_id\n",
    "# The 'suffixes' argument is used to handle any duplicate column names\n",
    "final_set_df = pd.merge(final_set_df, preview_url_df, on='track_id', how='left', suffixes=('', '_new'))\n",
    "\n",
    "# Check if 'preview_url_new' is in the final dataset after merging\n",
    "if 'preview_url_new' in final_set_df.columns:\n",
    "    # Replace the old preview_url column with the new one from preview_url_df\n",
    "    final_set_df['preview_url'] = final_set_df['preview_url_new']\n",
    "    # Drop the now redundant 'preview_url_new' column\n",
    "    final_set_df.drop('preview_url_new', axis=1, inplace=True)\n",
    "else:\n",
    "    # If 'preview_url_new' is not in the DataFrame, it means the column name in preview_url_df was different\n",
    "    # or there was no conflicting 'preview_url' column in the original DataFrame\n",
    "    print(\"Column 'preview_url_new' not found. Check the column names in preview_url_df.\")\n",
    "\n",
    "# Check the first few rows of the updated final dataset\n",
    "print(final_set_df.head())"
   ]
  },
  {
   "cell_type": "markdown",
   "id": "db1d3600",
   "metadata": {},
   "source": [
    "### 5. Clean up the final set"
   ]
  },
  {
   "cell_type": "code",
   "execution_count": 21,
   "id": "5fdb1d9a",
   "metadata": {
    "scrolled": true
   },
   "outputs": [
    {
     "data": {
      "text/html": [
       "<div>\n",
       "<style scoped>\n",
       "    .dataframe tbody tr th:only-of-type {\n",
       "        vertical-align: middle;\n",
       "    }\n",
       "\n",
       "    .dataframe tbody tr th {\n",
       "        vertical-align: top;\n",
       "    }\n",
       "\n",
       "    .dataframe thead th {\n",
       "        text-align: right;\n",
       "    }\n",
       "</style>\n",
       "<table border=\"1\" class=\"dataframe\">\n",
       "  <thead>\n",
       "    <tr style=\"text-align: right;\">\n",
       "      <th></th>\n",
       "      <th>track_id</th>\n",
       "      <th>isrc</th>\n",
       "      <th>explicit</th>\n",
       "      <th>track_title</th>\n",
       "      <th>preview_url</th>\n",
       "      <th>release_id</th>\n",
       "      <th>release_title</th>\n",
       "      <th>release_date</th>\n",
       "      <th>upc</th>\n",
       "      <th>release_popularity</th>\n",
       "      <th>...</th>\n",
       "      <th>mode</th>\n",
       "      <th>speechiness</th>\n",
       "      <th>tempo</th>\n",
       "      <th>time_signature</th>\n",
       "      <th>valence</th>\n",
       "      <th>updated_on_y_x</th>\n",
       "      <th>artist_id</th>\n",
       "      <th>artist_name</th>\n",
       "      <th>updated_on_x_y</th>\n",
       "      <th>updated_on_y_y</th>\n",
       "    </tr>\n",
       "  </thead>\n",
       "  <tbody>\n",
       "    <tr>\n",
       "      <th>0</th>\n",
       "      <td>1TJfx5wZrjAtvGc2LcRD50</td>\n",
       "      <td>NLE800510140</td>\n",
       "      <td>t</td>\n",
       "      <td>XTC Love - Radio Mix 1</td>\n",
       "      <td>https://p.scdn.co/mp3-preview/5089e683a4b81f8f...</td>\n",
       "      <td>1X5sxCP21FYyT1G4laJRPa</td>\n",
       "      <td>XTC Love (Remixes)</td>\n",
       "      <td>1995</td>\n",
       "      <td>8.715576e+12</td>\n",
       "      <td>25</td>\n",
       "      <td>...</td>\n",
       "      <td>1</td>\n",
       "      <td>0.0622</td>\n",
       "      <td>174</td>\n",
       "      <td>4</td>\n",
       "      <td>0.751</td>\n",
       "      <td>2023-08-28 18:28:29</td>\n",
       "      <td>3rHHWDHE0Nh2ulbinBUT7L</td>\n",
       "      <td>Bertocucci Feranzano</td>\n",
       "      <td>2023-08-22 18:08:59</td>\n",
       "      <td>2023-08-22 18:08:59</td>\n",
       "    </tr>\n",
       "    <tr>\n",
       "      <th>1</th>\n",
       "      <td>3gTN5N6qtxokiy1MSAyRHf</td>\n",
       "      <td>NLE800510143</td>\n",
       "      <td>t</td>\n",
       "      <td>XTC Love - Original Mix</td>\n",
       "      <td>https://p.scdn.co/mp3-preview/7f0559e58f37f040...</td>\n",
       "      <td>1X5sxCP21FYyT1G4laJRPa</td>\n",
       "      <td>XTC Love (Remixes)</td>\n",
       "      <td>1995</td>\n",
       "      <td>8.715576e+12</td>\n",
       "      <td>25</td>\n",
       "      <td>...</td>\n",
       "      <td>0</td>\n",
       "      <td>0.1280</td>\n",
       "      <td>166</td>\n",
       "      <td>4</td>\n",
       "      <td>0.281</td>\n",
       "      <td>2023-08-28 18:28:29</td>\n",
       "      <td>3rHHWDHE0Nh2ulbinBUT7L</td>\n",
       "      <td>Bertocucci Feranzano</td>\n",
       "      <td>2023-08-22 18:08:59</td>\n",
       "      <td>2023-08-22 18:08:59</td>\n",
       "    </tr>\n",
       "    <tr>\n",
       "      <th>2</th>\n",
       "      <td>6QXxvRGql81hrkNKl1sJNy</td>\n",
       "      <td>GBKQU1986237</td>\n",
       "      <td>f</td>\n",
       "      <td>blinded</td>\n",
       "      <td>https://p.scdn.co/mp3-preview/1883d8ef8a5628f0...</td>\n",
       "      <td>1CBV9MWSJ4hzlG7FswiFhS</td>\n",
       "      <td>blinded</td>\n",
       "      <td>2019-09-13</td>\n",
       "      <td>5.054285e+12</td>\n",
       "      <td>11</td>\n",
       "      <td>...</td>\n",
       "      <td>1</td>\n",
       "      <td>0.0345</td>\n",
       "      <td>82</td>\n",
       "      <td>4</td>\n",
       "      <td>0.119</td>\n",
       "      <td>2023-08-24 09:34:11</td>\n",
       "      <td>2EuvmrUgxr2p9iV0aALuUn</td>\n",
       "      <td>Evate</td>\n",
       "      <td>2023-08-22 18:09:04</td>\n",
       "      <td>2023-08-22 18:09:04</td>\n",
       "    </tr>\n",
       "    <tr>\n",
       "      <th>3</th>\n",
       "      <td>6R5Ut5Mb88EqyLLiNaIOD0</td>\n",
       "      <td>NLE802200356</td>\n",
       "      <td>f</td>\n",
       "      <td>Time To Dance Again - Arena Mix</td>\n",
       "      <td>https://p.scdn.co/mp3-preview/6b57227204be23bd...</td>\n",
       "      <td>2Ai0JEUm1XYMsOMWMHgnod</td>\n",
       "      <td>Time To Dance Again</td>\n",
       "      <td>2022-07-28</td>\n",
       "      <td>8.715576e+12</td>\n",
       "      <td>23</td>\n",
       "      <td>...</td>\n",
       "      <td>0</td>\n",
       "      <td>0.3410</td>\n",
       "      <td>146</td>\n",
       "      <td>4</td>\n",
       "      <td>0.102</td>\n",
       "      <td>2023-08-24 09:35:14</td>\n",
       "      <td>6C0KWmCdqrLU2LzzWBPbOy</td>\n",
       "      <td>Headhunterz</td>\n",
       "      <td>2023-08-22 18:09:04</td>\n",
       "      <td>2023-08-22 18:09:04</td>\n",
       "    </tr>\n",
       "    <tr>\n",
       "      <th>4</th>\n",
       "      <td>7o7Qx3kulN6A0uOaAPf5Vz</td>\n",
       "      <td>NLE802200334</td>\n",
       "      <td>f</td>\n",
       "      <td>Time To Dance Again</td>\n",
       "      <td>https://p.scdn.co/mp3-preview/4229181352cb0c16...</td>\n",
       "      <td>2Ai0JEUm1XYMsOMWMHgnod</td>\n",
       "      <td>Time To Dance Again</td>\n",
       "      <td>2022-07-28</td>\n",
       "      <td>8.715576e+12</td>\n",
       "      <td>23</td>\n",
       "      <td>...</td>\n",
       "      <td>1</td>\n",
       "      <td>0.1800</td>\n",
       "      <td>75</td>\n",
       "      <td>4</td>\n",
       "      <td>0.190</td>\n",
       "      <td>2023-08-24 09:35:14</td>\n",
       "      <td>6C0KWmCdqrLU2LzzWBPbOy</td>\n",
       "      <td>Headhunterz</td>\n",
       "      <td>2023-08-22 18:09:04</td>\n",
       "      <td>2023-08-22 18:09:04</td>\n",
       "    </tr>\n",
       "    <tr>\n",
       "      <th>5</th>\n",
       "      <td>0zolxiS5uiL5towOJrsJi4</td>\n",
       "      <td>NLE801900579</td>\n",
       "      <td>f</td>\n",
       "      <td>Home</td>\n",
       "      <td>https://p.scdn.co/mp3-preview/4d5c7620737fbd8e...</td>\n",
       "      <td>4MzEIsQjND2tLFpckD4k4i</td>\n",
       "      <td>Home</td>\n",
       "      <td>2019-09-12</td>\n",
       "      <td>8.715576e+12</td>\n",
       "      <td>41</td>\n",
       "      <td>...</td>\n",
       "      <td>0</td>\n",
       "      <td>0.0845</td>\n",
       "      <td>150</td>\n",
       "      <td>4</td>\n",
       "      <td>0.367</td>\n",
       "      <td>2023-08-24 09:35:14</td>\n",
       "      <td>6C0KWmCdqrLU2LzzWBPbOy</td>\n",
       "      <td>Headhunterz</td>\n",
       "      <td>2023-08-22 18:09:04</td>\n",
       "      <td>2023-08-22 18:09:07</td>\n",
       "    </tr>\n",
       "    <tr>\n",
       "      <th>6</th>\n",
       "      <td>6AJ1Rk1khe1egig27nXImU</td>\n",
       "      <td>DEKU31800053</td>\n",
       "      <td>f</td>\n",
       "      <td>Pendular</td>\n",
       "      <td>https://p.scdn.co/mp3-preview/d8e54d5d229948b9...</td>\n",
       "      <td>7uyLY8BzV9IBvAPJSXF9O1</td>\n",
       "      <td>Pendular</td>\n",
       "      <td>2018-07-31</td>\n",
       "      <td>5.054284e+12</td>\n",
       "      <td>4</td>\n",
       "      <td>...</td>\n",
       "      <td>0</td>\n",
       "      <td>0.0477</td>\n",
       "      <td>110</td>\n",
       "      <td>4</td>\n",
       "      <td>0.768</td>\n",
       "      <td>2023-08-24 09:33:01</td>\n",
       "      <td>4FXp2weLNGcM2w6YrvXIpK</td>\n",
       "      <td>Crossing Colors</td>\n",
       "      <td>2023-08-22 18:08:52</td>\n",
       "      <td>2023-08-22 18:09:15</td>\n",
       "    </tr>\n",
       "    <tr>\n",
       "      <th>7</th>\n",
       "      <td>2KM4KCDbbfOvQ5cgWADd0Z</td>\n",
       "      <td>NLE802100230</td>\n",
       "      <td>f</td>\n",
       "      <td>Way Of Life</td>\n",
       "      <td>https://p.scdn.co/mp3-preview/a8e60e3bd2defda5...</td>\n",
       "      <td>5lEbkoP9agkFBm91HCyr5e</td>\n",
       "      <td>Way Of Life</td>\n",
       "      <td>2021-05-27</td>\n",
       "      <td>8.715576e+12</td>\n",
       "      <td>36</td>\n",
       "      <td>...</td>\n",
       "      <td>0</td>\n",
       "      <td>0.0350</td>\n",
       "      <td>150</td>\n",
       "      <td>4</td>\n",
       "      <td>0.123</td>\n",
       "      <td>2023-08-24 09:35:14</td>\n",
       "      <td>5QySqc6yAFDx9m7fedFZmC</td>\n",
       "      <td>Brennan Heart</td>\n",
       "      <td>2023-08-22 18:09:01</td>\n",
       "      <td>2023-08-22 18:09:16</td>\n",
       "    </tr>\n",
       "    <tr>\n",
       "      <th>8</th>\n",
       "      <td>7t2gGVF4Q7QnFM9dt9F0qE</td>\n",
       "      <td>NLE802100231</td>\n",
       "      <td>f</td>\n",
       "      <td>Way Of Life - Extended Mix</td>\n",
       "      <td>https://p.scdn.co/mp3-preview/758c6b9f2ff9b87b...</td>\n",
       "      <td>5lEbkoP9agkFBm91HCyr5e</td>\n",
       "      <td>Way Of Life</td>\n",
       "      <td>2021-05-27</td>\n",
       "      <td>8.715576e+12</td>\n",
       "      <td>36</td>\n",
       "      <td>...</td>\n",
       "      <td>0</td>\n",
       "      <td>0.0566</td>\n",
       "      <td>150</td>\n",
       "      <td>4</td>\n",
       "      <td>0.439</td>\n",
       "      <td>2023-08-24 09:35:14</td>\n",
       "      <td>5QySqc6yAFDx9m7fedFZmC</td>\n",
       "      <td>Brennan Heart</td>\n",
       "      <td>2023-08-22 18:09:01</td>\n",
       "      <td>2023-08-22 18:09:16</td>\n",
       "    </tr>\n",
       "    <tr>\n",
       "      <th>9</th>\n",
       "      <td>2zyNdmZPg8etdhRpq8luNA</td>\n",
       "      <td>US83Z2201210</td>\n",
       "      <td>f</td>\n",
       "      <td>Mondschein</td>\n",
       "      <td>https://p.scdn.co/mp3-preview/be9b875036d90e36...</td>\n",
       "      <td>7cXung70x5NizMa5nKArbV</td>\n",
       "      <td>Mondschein</td>\n",
       "      <td>2022-02-04</td>\n",
       "      <td>8.535661e+11</td>\n",
       "      <td>1</td>\n",
       "      <td>...</td>\n",
       "      <td>1</td>\n",
       "      <td>0.0334</td>\n",
       "      <td>127</td>\n",
       "      <td>4</td>\n",
       "      <td>0.038</td>\n",
       "      <td>2023-08-24 09:36:18</td>\n",
       "      <td>7Lh93l3X1NHoq1M8JnXX6P</td>\n",
       "      <td>Kraft Der Sonne</td>\n",
       "      <td>2023-08-22 18:09:19</td>\n",
       "      <td>2023-08-22 18:09:19</td>\n",
       "    </tr>\n",
       "  </tbody>\n",
       "</table>\n",
       "<p>10 rows × 34 columns</p>\n",
       "</div>"
      ],
      "text/plain": [
       "                 track_id          isrc explicit  \\\n",
       "0  1TJfx5wZrjAtvGc2LcRD50  NLE800510140        t   \n",
       "1  3gTN5N6qtxokiy1MSAyRHf  NLE800510143        t   \n",
       "2  6QXxvRGql81hrkNKl1sJNy  GBKQU1986237        f   \n",
       "3  6R5Ut5Mb88EqyLLiNaIOD0  NLE802200356        f   \n",
       "4  7o7Qx3kulN6A0uOaAPf5Vz  NLE802200334        f   \n",
       "5  0zolxiS5uiL5towOJrsJi4  NLE801900579        f   \n",
       "6  6AJ1Rk1khe1egig27nXImU  DEKU31800053        f   \n",
       "7  2KM4KCDbbfOvQ5cgWADd0Z  NLE802100230        f   \n",
       "8  7t2gGVF4Q7QnFM9dt9F0qE  NLE802100231        f   \n",
       "9  2zyNdmZPg8etdhRpq8luNA  US83Z2201210        f   \n",
       "\n",
       "                       track_title  \\\n",
       "0           XTC Love - Radio Mix 1   \n",
       "1          XTC Love - Original Mix   \n",
       "2                          blinded   \n",
       "3  Time To Dance Again - Arena Mix   \n",
       "4              Time To Dance Again   \n",
       "5                             Home   \n",
       "6                         Pendular   \n",
       "7                      Way Of Life   \n",
       "8       Way Of Life - Extended Mix   \n",
       "9                       Mondschein   \n",
       "\n",
       "                                         preview_url              release_id  \\\n",
       "0  https://p.scdn.co/mp3-preview/5089e683a4b81f8f...  1X5sxCP21FYyT1G4laJRPa   \n",
       "1  https://p.scdn.co/mp3-preview/7f0559e58f37f040...  1X5sxCP21FYyT1G4laJRPa   \n",
       "2  https://p.scdn.co/mp3-preview/1883d8ef8a5628f0...  1CBV9MWSJ4hzlG7FswiFhS   \n",
       "3  https://p.scdn.co/mp3-preview/6b57227204be23bd...  2Ai0JEUm1XYMsOMWMHgnod   \n",
       "4  https://p.scdn.co/mp3-preview/4229181352cb0c16...  2Ai0JEUm1XYMsOMWMHgnod   \n",
       "5  https://p.scdn.co/mp3-preview/4d5c7620737fbd8e...  4MzEIsQjND2tLFpckD4k4i   \n",
       "6  https://p.scdn.co/mp3-preview/d8e54d5d229948b9...  7uyLY8BzV9IBvAPJSXF9O1   \n",
       "7  https://p.scdn.co/mp3-preview/a8e60e3bd2defda5...  5lEbkoP9agkFBm91HCyr5e   \n",
       "8  https://p.scdn.co/mp3-preview/758c6b9f2ff9b87b...  5lEbkoP9agkFBm91HCyr5e   \n",
       "9  https://p.scdn.co/mp3-preview/be9b875036d90e36...  7cXung70x5NizMa5nKArbV   \n",
       "\n",
       "         release_title release_date           upc  release_popularity  ...  \\\n",
       "0   XTC Love (Remixes)         1995  8.715576e+12                  25  ...   \n",
       "1   XTC Love (Remixes)         1995  8.715576e+12                  25  ...   \n",
       "2              blinded   2019-09-13  5.054285e+12                  11  ...   \n",
       "3  Time To Dance Again   2022-07-28  8.715576e+12                  23  ...   \n",
       "4  Time To Dance Again   2022-07-28  8.715576e+12                  23  ...   \n",
       "5                 Home   2019-09-12  8.715576e+12                  41  ...   \n",
       "6             Pendular   2018-07-31  5.054284e+12                   4  ...   \n",
       "7          Way Of Life   2021-05-27  8.715576e+12                  36  ...   \n",
       "8          Way Of Life   2021-05-27  8.715576e+12                  36  ...   \n",
       "9           Mondschein   2022-02-04  8.535661e+11                   1  ...   \n",
       "\n",
       "   mode speechiness tempo time_signature valence       updated_on_y_x  \\\n",
       "0     1      0.0622   174              4   0.751  2023-08-28 18:28:29   \n",
       "1     0      0.1280   166              4   0.281  2023-08-28 18:28:29   \n",
       "2     1      0.0345    82              4   0.119  2023-08-24 09:34:11   \n",
       "3     0      0.3410   146              4   0.102  2023-08-24 09:35:14   \n",
       "4     1      0.1800    75              4   0.190  2023-08-24 09:35:14   \n",
       "5     0      0.0845   150              4   0.367  2023-08-24 09:35:14   \n",
       "6     0      0.0477   110              4   0.768  2023-08-24 09:33:01   \n",
       "7     0      0.0350   150              4   0.123  2023-08-24 09:35:14   \n",
       "8     0      0.0566   150              4   0.439  2023-08-24 09:35:14   \n",
       "9     1      0.0334   127              4   0.038  2023-08-24 09:36:18   \n",
       "\n",
       "                artist_id           artist_name       updated_on_x_y  \\\n",
       "0  3rHHWDHE0Nh2ulbinBUT7L  Bertocucci Feranzano  2023-08-22 18:08:59   \n",
       "1  3rHHWDHE0Nh2ulbinBUT7L  Bertocucci Feranzano  2023-08-22 18:08:59   \n",
       "2  2EuvmrUgxr2p9iV0aALuUn                 Evate  2023-08-22 18:09:04   \n",
       "3  6C0KWmCdqrLU2LzzWBPbOy           Headhunterz  2023-08-22 18:09:04   \n",
       "4  6C0KWmCdqrLU2LzzWBPbOy           Headhunterz  2023-08-22 18:09:04   \n",
       "5  6C0KWmCdqrLU2LzzWBPbOy           Headhunterz  2023-08-22 18:09:04   \n",
       "6  4FXp2weLNGcM2w6YrvXIpK       Crossing Colors  2023-08-22 18:08:52   \n",
       "7  5QySqc6yAFDx9m7fedFZmC         Brennan Heart  2023-08-22 18:09:01   \n",
       "8  5QySqc6yAFDx9m7fedFZmC         Brennan Heart  2023-08-22 18:09:01   \n",
       "9  7Lh93l3X1NHoq1M8JnXX6P       Kraft Der Sonne  2023-08-22 18:09:19   \n",
       "\n",
       "        updated_on_y_y  \n",
       "0  2023-08-22 18:08:59  \n",
       "1  2023-08-22 18:08:59  \n",
       "2  2023-08-22 18:09:04  \n",
       "3  2023-08-22 18:09:04  \n",
       "4  2023-08-22 18:09:04  \n",
       "5  2023-08-22 18:09:07  \n",
       "6  2023-08-22 18:09:15  \n",
       "7  2023-08-22 18:09:16  \n",
       "8  2023-08-22 18:09:16  \n",
       "9  2023-08-22 18:09:19  \n",
       "\n",
       "[10 rows x 34 columns]"
      ]
     },
     "execution_count": 21,
     "metadata": {},
     "output_type": "execute_result"
    }
   ],
   "source": [
    "# Re-index after all the merging\n",
    "final_set_df = final_set_df.reset_index(drop=True)\n",
    "final_set_df.head(10)"
   ]
  },
  {
   "cell_type": "markdown",
   "id": "86c44c45",
   "metadata": {},
   "source": [
    "We do not need the following data as it is not relevant to the project:\n",
    "\n",
    "    - 'isrc'                \n",
    "    - 'track_title'\n",
    "    - 'time_signature'\n",
    "    - 'release_id'          \n",
    "    - 'release_title'       \n",
    "    - 'upc'                 \n",
    "    - 'release_popularity'\n",
    "    - 'total_tracks_in_release'\n",
    "    - 'album_type'          \n",
    "    - 'release_img'         \n",
    "    - 'label_name'\n",
    "    - 'artist_id'\n",
    "    - 'updated_on_x_x'      \n",
    "    - 'updated_on_y_x'      \n",
    "     -'updated_on_x_y'      "
   ]
  },
  {
   "cell_type": "code",
   "execution_count": 22,
   "id": "6abb9016",
   "metadata": {},
   "outputs": [],
   "source": [
    "# Dropping the columns\n",
    "final_set_df.drop(['isrc', 'track_title', 'release_id', 'release_title', 'upc', 'release_popularity', \n",
    "                  'total_tracks_in_release', 'album_type', 'release_img', 'label_name', 'artist_id', 'time_signature',\n",
    "                  'updated_on_x_x', 'updated_on_y_x', 'updated_on_x_y', 'updated_on_y_y'], axis=1, inplace=True)"
   ]
  },
  {
   "cell_type": "code",
   "execution_count": 23,
   "id": "9e259c5f",
   "metadata": {},
   "outputs": [
    {
     "name": "stdout",
     "output_type": "stream",
     "text": [
      "<class 'pandas.core.frame.DataFrame'>\n",
      "RangeIndex: 489524 entries, 0 to 489523\n",
      "Data columns (total 18 columns):\n",
      " #   Column            Non-Null Count   Dtype  \n",
      "---  ------            --------------   -----  \n",
      " 0   track_id          489524 non-null  object \n",
      " 1   explicit          489524 non-null  object \n",
      " 2   preview_url       472072 non-null  object \n",
      " 3   release_date      489524 non-null  object \n",
      " 4   popularity        489524 non-null  float64\n",
      " 5   acousticness      489524 non-null  float64\n",
      " 6   danceability      489524 non-null  float64\n",
      " 7   duration_ms       489524 non-null  int64  \n",
      " 8   energy            489524 non-null  float64\n",
      " 9   instrumentalness  489524 non-null  float64\n",
      " 10  key               489524 non-null  int64  \n",
      " 11  liveness          489524 non-null  float64\n",
      " 12  loudness          489524 non-null  float64\n",
      " 13  mode              489524 non-null  int64  \n",
      " 14  speechiness       489524 non-null  float64\n",
      " 15  tempo             489524 non-null  int64  \n",
      " 16  valence           489524 non-null  float64\n",
      " 17  artist_name       489524 non-null  object \n",
      "dtypes: float64(9), int64(4), object(5)\n",
      "memory usage: 67.2+ MB\n"
     ]
    }
   ],
   "source": [
    "final_set_df.info()"
   ]
  },
  {
   "cell_type": "code",
   "execution_count": 24,
   "id": "8ffe3c28",
   "metadata": {},
   "outputs": [],
   "source": [
    "# Export to .csv\n",
    "os.chdir(data_dir)\n",
    "final_set_df.to_csv('integrated_data.csv')"
   ]
  }
 ],
 "metadata": {
  "kernelspec": {
   "display_name": "Python 3 (ipykernel)",
   "language": "python",
   "name": "python3"
  },
  "language_info": {
   "codemirror_mode": {
    "name": "ipython",
    "version": 3
   },
   "file_extension": ".py",
   "mimetype": "text/x-python",
   "name": "python",
   "nbconvert_exporter": "python",
   "pygments_lexer": "ipython3",
   "version": "3.11.5"
  }
 },
 "nbformat": 4,
 "nbformat_minor": 5
}
