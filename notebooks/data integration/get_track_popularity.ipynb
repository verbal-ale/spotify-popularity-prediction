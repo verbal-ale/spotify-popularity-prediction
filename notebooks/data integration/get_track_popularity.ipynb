{
 "cells": [
  {
   "cell_type": "code",
   "execution_count": 1,
   "metadata": {},
   "outputs": [],
   "source": [
    "from __future__ import print_function    # (at top of module)\n",
    "import json\n",
    "import time\n",
    "import sys\n",
    "\n",
    "from datetime import datetime\n",
    "import pandas as pd\n",
    "\n",
    "import spotipy\n",
    "from spotipy.oauth2 import SpotifyClientCredentials"
   ]
  },
  {
   "cell_type": "code",
   "execution_count": 2,
   "metadata": {},
   "outputs": [],
   "source": [
    "#Log in using Client ID and secret given from your spotify developer account\n",
    "cid = \"df5c6cc760214121b23bf94ec7b49fbc\"\n",
    "secret = \"c415025693414b379d4807409694764f\""
   ]
  },
  {
   "cell_type": "code",
   "execution_count": 3,
   "metadata": {},
   "outputs": [],
   "source": [
    "#Authentication - without user\n",
    "client_credentials_manager = SpotifyClientCredentials(client_id=cid, client_secret=secret)\n",
    "sp = spotipy.Spotify(client_credentials_manager = client_credentials_manager)\n",
    "sp.trace = True"
   ]
  },
  {
   "cell_type": "code",
   "execution_count": 4,
   "metadata": {},
   "outputs": [
    {
     "name": "stdout",
     "output_type": "stream",
     "text": [
      "                    track_id\n",
      "0     4XWXRLdyw89Pj7hsRV7rYe\n",
      "1     0PkbbOU8auWujtO7bmJBNW\n",
      "2     3Oki7MNmkRORPjDCqLrJVb\n",
      "3     5cVBqtqeT5GtDq4yE2EbfF\n",
      "4     3uxcW1TrBI58VdodXvKlsX\n",
      "...                      ...\n",
      "4995  0YeieRszOjmilWuqgmV2Wr\n",
      "4996  1Wjnz9a6SAqtB6avx7qPr2\n",
      "4997  0EkGrkGcVjyeAsiubQsrNR\n",
      "4998  54ivBWjaiBH5W2fAVYV1k3\n",
      "4999  7cluWhH0Txwh1BJpGait0Y\n",
      "\n",
      "[5000 rows x 1 columns]\n"
     ]
    }
   ],
   "source": [
    "n = 22 #current chunk No. CHANGE THIS VALUE WHEN RUNNING EVERYTIME\n",
    "\n",
    "filepath = '../data/chunks/chunk_' + str(n) + '.csv'\n",
    "\n",
    "chunk = pd.read_csv(filepath)\n",
    "df=pd.DataFrame(chunk)\n",
    "print(df)"
   ]
  },
  {
   "cell_type": "code",
   "execution_count": 7,
   "metadata": {},
   "outputs": [],
   "source": [
    "#Create popularity column\n",
    "\n",
    "df['popularity'] = 0\n",
    "df['udated_on'] = datetime.now().strftime(\"%Y-%m-%d %H:%M:%S\")"
   ]
  },
  {
   "cell_type": "code",
   "execution_count": 8,
   "metadata": {
    "scrolled": true
   },
   "outputs": [
    {
     "name": "stdout",
     "output_type": "stream",
     "text": [
      "                    track_id  popularity            udated_on\n",
      "0     4XWXRLdyw89Pj7hsRV7rYe           0  2023-10-14 13:19:50\n",
      "1     0PkbbOU8auWujtO7bmJBNW           0  2023-10-14 13:19:50\n",
      "2     3Oki7MNmkRORPjDCqLrJVb           0  2023-10-14 13:19:50\n",
      "3     5cVBqtqeT5GtDq4yE2EbfF           0  2023-10-14 13:19:50\n",
      "4     3uxcW1TrBI58VdodXvKlsX           0  2023-10-14 13:19:50\n",
      "...                      ...         ...                  ...\n",
      "4995  0YeieRszOjmilWuqgmV2Wr           0  2023-10-14 13:19:50\n",
      "4996  1Wjnz9a6SAqtB6avx7qPr2           0  2023-10-14 13:19:50\n",
      "4997  0EkGrkGcVjyeAsiubQsrNR           0  2023-10-14 13:19:50\n",
      "4998  54ivBWjaiBH5W2fAVYV1k3           0  2023-10-14 13:19:50\n",
      "4999  7cluWhH0Txwh1BJpGait0Y           0  2023-10-14 13:19:50\n",
      "\n",
      "[5000 rows x 3 columns]\n"
     ]
    }
   ],
   "source": [
    "#get track id and return its popularity\n",
    "\n",
    "column_t = df.columns.get_loc('track_id')\n",
    "column_p = df.columns.get_loc('popularity')\n",
    "\n",
    "#for i, row in df.iterrows():\n",
    " #   t_id = df.iloc[i,column_t]  #get track value from Data frame\n",
    "  #  t_id = sp.track(t_id) #find this track in Spotify\n",
    "   # popularity = t_id[\"popularity\"] #Get popularity\n",
    "    #df.at[i,'popularity']= popularity\n",
    "\n",
    "print(df)\n",
    "output_file_name= '../data/chunks_popularity/chunks_popularity_' + str(n) + '.csv'\n",
    "df.to_csv(output_file_name, index=False)"
   ]
  },
  {
   "cell_type": "markdown",
   "metadata": {},
   "source": [
    "Below is used for initial testing and getting information from Spotify"
   ]
  },
  {
   "cell_type": "code",
   "execution_count": null,
   "metadata": {},
   "outputs": [],
   "source": [
    "\n",
    "title_id = \"7mR6UMcfPmLM10y4ZUJYHK\"\n",
    "#Start time of the call to Spotify\n",
    "start = time.time()\n",
    "\n",
    "#Get audio features of ONE song\n",
    "features = sp.audio_features(title_id)\n",
    "\n",
    "#Get separately popularity\n",
    "track = sp.track(title_id)\n",
    "popularity = track[\"popularity\"]\n",
    "\n",
    "#End time of the call to Spotify\n",
    "delta = time.time() - start\n",
    "\n",
    "#Print all\n",
    "print(json.dumps(features, indent=4))\n",
    "\n",
    "print(\"popularity = \", popularity/100)\n",
    "print(\"features retrieved in %.2f seconds\" % (delta,))"
   ]
  }
 ],
 "metadata": {
  "kernelspec": {
   "display_name": "Python 3 (ipykernel)",
   "language": "python",
   "name": "python3"
  },
  "language_info": {
   "codemirror_mode": {
    "name": "ipython",
    "version": 3
   },
   "file_extension": ".py",
   "mimetype": "text/x-python",
   "name": "python",
   "nbconvert_exporter": "python",
   "pygments_lexer": "ipython3",
   "version": "3.11.4"
  }
 },
 "nbformat": 4,
 "nbformat_minor": 2
}
