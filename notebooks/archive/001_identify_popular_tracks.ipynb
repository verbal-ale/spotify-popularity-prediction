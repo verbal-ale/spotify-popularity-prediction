{
 "cells": [
  {
   "cell_type": "code",
   "execution_count": 1,
   "id": "4efce21a",
   "metadata": {},
   "outputs": [],
   "source": [
    "### This notebook takes in a couple of raw data sets and produces a .csv file containing only \n",
    "### tracks, which are part of popular releases\n",
    "\n",
    "### To run this notebook you need the raw datasets sp_release and sp_track in the /data folder\n",
    "### of the repo"
   ]
  },
  {
   "cell_type": "code",
   "execution_count": 2,
   "id": "81c8aca8",
   "metadata": {},
   "outputs": [],
   "source": [
    "import pandas as pd\n",
    "import os\n",
    "import numpy as np\n",
    "import matplotlib.pyplot as plt"
   ]
  },
  {
   "cell_type": "code",
   "execution_count": 3,
   "id": "0bea3ca3",
   "metadata": {},
   "outputs": [
    {
     "name": "stdout",
     "output_type": "stream",
     "text": [
      "C:\\Users\\alexv\\OneDrive\\Documents\\GitHub\\group-coursework-machine-learners\\notebooks\n"
     ]
    }
   ],
   "source": [
    "print(os.getcwd())\n",
    "cwd = os.getcwd()"
   ]
  },
  {
   "cell_type": "code",
   "execution_count": 4,
   "id": "a601574b",
   "metadata": {},
   "outputs": [],
   "source": [
    "# Change the current working directory to the one containing the raw data\n",
    "master_dir = cwd[0:-10]\n",
    "cwd = master_dir+'\\\\data\\\\raw kaggle data\\\\'\n",
    "os.chdir(cwd)"
   ]
  },
  {
   "cell_type": "code",
   "execution_count": 5,
   "id": "01afcd55",
   "metadata": {},
   "outputs": [
    {
     "name": "stdout",
     "output_type": "stream",
     "text": [
      "C:\\Users\\alexv\\OneDrive\\Documents\\GitHub\\group-coursework-machine-learners\\data\\raw kaggle data\n"
     ]
    }
   ],
   "source": [
    "# Make sure we have the correct directory\n",
    "print(os.getcwd())"
   ]
  },
  {
   "cell_type": "code",
   "execution_count": 7,
   "id": "1f6d9e9b",
   "metadata": {
    "scrolled": true
   },
   "outputs": [],
   "source": [
    "# Load the data sets into respective dataframes\n",
    "\n",
    "sp_release_df= pd.read_csv(\"sp_release.csv\")\n",
    "sp_track_df = pd.read_csv(\"sp_track.csv\")"
   ]
  },
  {
   "cell_type": "code",
   "execution_count": null,
   "id": "295542cf",
   "metadata": {},
   "outputs": [],
   "source": [
    "# We want to measure popularity which is updated in real(ish) time, aka\n",
    "# how many times a track has been played RECENTLY\n",
    "\n",
    "sp_release_df.value_counts(\"updated_on\", ascending=True)"
   ]
  },
  {
   "cell_type": "code",
   "execution_count": null,
   "id": "bc963f1b",
   "metadata": {},
   "outputs": [],
   "source": [
    "# We can see that the samples have been collected within <20d of each other\n",
    "# and relatively recently\n",
    "\n",
    "# Now we check for missing values and the features of the data set\n",
    "sp_release_df.info()\n"
   ]
  },
  {
   "cell_type": "code",
   "execution_count": null,
   "id": "a4075f90",
   "metadata": {},
   "outputs": [],
   "source": [
    "# We can see there's some missing values, but a neglegible amount\n",
    "# Let's see how many different types of albums there are\n",
    "\n",
    "sp_release_df.value_counts(\"album_type\")"
   ]
  },
  {
   "cell_type": "code",
   "execution_count": null,
   "id": "c071d43b",
   "metadata": {},
   "outputs": [],
   "source": [
    "# We are trying to predict the popularity of a single based on it's audio\n",
    "# features so we extract the singles from the df\n",
    "\n",
    "sp_release_singles_df = sp_release_df.groupby(\n",
    "    sp_release_df['album_type']).get_group('single')"
   ]
  },
  {
   "cell_type": "code",
   "execution_count": null,
   "id": "218f1179",
   "metadata": {},
   "outputs": [],
   "source": [
    "# Check to see if the split was successful\n",
    "\n",
    "sp_release_singles_df.info()"
   ]
  },
  {
   "cell_type": "code",
   "execution_count": null,
   "id": "df9d141a",
   "metadata": {},
   "outputs": [],
   "source": [
    "sp_release_singles_df.value_counts('total_tracks')\n"
   ]
  },
  {
   "cell_type": "code",
   "execution_count": null,
   "id": "b3902fb7",
   "metadata": {},
   "outputs": [],
   "source": [
    "popularity_counts = sp_release_singles_df.value_counts(\"popularity\", ascending=True)\n",
    "print(popularity_counts)"
   ]
  },
  {
   "cell_type": "code",
   "execution_count": null,
   "id": "878d3e68",
   "metadata": {},
   "outputs": [],
   "source": [
    "#73 is the max popularity of a release\n",
    "popularity_counts.info()"
   ]
  },
  {
   "cell_type": "code",
   "execution_count": null,
   "id": "e3eacddb",
   "metadata": {},
   "outputs": [],
   "source": [
    "#create a new DataFrame to hold only the popular releases\n",
    "popular_singles_df = sp_release_singles_df[sp_release_singles_df['popularity']!=0]"
   ]
  },
  {
   "cell_type": "code",
   "execution_count": null,
   "id": "a44f6a5d",
   "metadata": {},
   "outputs": [],
   "source": [
    "#check \n",
    "popular_singles_df.head()"
   ]
  },
  {
   "cell_type": "code",
   "execution_count": null,
   "id": "d4813550",
   "metadata": {},
   "outputs": [],
   "source": [
    "sp_track_df.info()"
   ]
  },
  {
   "cell_type": "code",
   "execution_count": null,
   "id": "2f7812ce",
   "metadata": {},
   "outputs": [],
   "source": [
    "sp_track_df.head()"
   ]
  },
  {
   "cell_type": "code",
   "execution_count": null,
   "id": "734f472d",
   "metadata": {},
   "outputs": [],
   "source": [
    "#Filtering on release_id and retaining relevant features\n",
    "\n",
    "filter_ids = popular_singles_df['release_id'].values\n",
    "\n",
    "mask = sp_track_df['release_id'].isin(filter_ids)\n",
    "\n",
    "filtered_data_ids = sp_track_df.loc[mask, 'track_id']\n",
    "filtered_data_isrc = sp_track_df.loc[mask, 'isrc']\n",
    "filtered_data_explicit = sp_track_df.loc[mask, 'explicit']\n",
    "filtered_data_title = sp_track_df.loc[mask, 'track_title'] \n",
    "filtered_data_sample = sp_track_df.loc[mask, 'preview_url']\n",
    "filtered_data_release_id = sp_track_df.loc[mask, 'release_id']\n",
    "\n",
    "popular_tracks_df = pd.DataFrame({\n",
    "    'track_id': filtered_data_ids, \n",
    "    'isrc': filtered_data_isrc, \n",
    "    'explicit': filtered_data_explicit,\n",
    "    'track_title': filtered_data_title,\n",
    "    'preview_url' : filtered_data_sample,\n",
    "    'release_id': filtered_data_release_id})\n",
    "popular_tracks_df.head()"
   ]
  },
  {
   "cell_type": "code",
   "execution_count": null,
   "id": "3a7e8e6d",
   "metadata": {},
   "outputs": [],
   "source": [
    "#We can see if there are any doubling songs in the releases or missing values\n",
    "popular_tracks_df.describe()"
   ]
  },
  {
   "cell_type": "code",
   "execution_count": null,
   "id": "8656fd7c",
   "metadata": {},
   "outputs": [],
   "source": [
    "popular_tracks_df.info()"
   ]
  },
  {
   "cell_type": "code",
   "execution_count": null,
   "id": "9c8d51a4",
   "metadata": {},
   "outputs": [],
   "source": [
    "#Drop rows with NaN values for isrc\n",
    "popular_tracks_df = popular_tracks_df.dropna(subset=['isrc'])\n",
    "popular_tracks_df.info()"
   ]
  },
  {
   "cell_type": "code",
   "execution_count": null,
   "id": "f4789f2c",
   "metadata": {},
   "outputs": [],
   "source": [
    "#Drop duplicates\n",
    "popular_tracks_df = popular_tracks_df.drop_duplicates(subset=['isrc'])\n",
    "popular_tracks_df.info()"
   ]
  },
  {
   "cell_type": "code",
   "execution_count": null,
   "id": "d2051685",
   "metadata": {},
   "outputs": [],
   "source": [
    "popular_singles_df.head()"
   ]
  },
  {
   "cell_type": "code",
   "execution_count": null,
   "id": "6491331c",
   "metadata": {},
   "outputs": [],
   "source": [
    "popular_tracks_df.head()"
   ]
  },
  {
   "cell_type": "code",
   "execution_count": null,
   "id": "5f7fc9a9",
   "metadata": {},
   "outputs": [],
   "source": [
    "merded_popular_tracks_df = pd.merge(popular_tracks_df, popular_singles_df, on='release_id', how='left')"
   ]
  },
  {
   "cell_type": "code",
   "execution_count": null,
   "id": "6547383d",
   "metadata": {},
   "outputs": [],
   "source": [
    "merded_popular_tracks_df.head()"
   ]
  },
  {
   "cell_type": "code",
   "execution_count": null,
   "id": "8b523ae0",
   "metadata": {},
   "outputs": [],
   "source": [
    "#rename 'popularity' to 'release_popularity' to avoid confusion (same for total_tracks)\n",
    "merded_popular_tracks_df = merded_popular_tracks_df.rename(columns={\n",
    "    'popularity':'release_popularity', \n",
    "    'total_tracks':'total_tracks_in_release'})\n",
    "merded_popular_tracks_df.head()"
   ]
  },
  {
   "cell_type": "code",
   "execution_count": null,
   "id": "fd0c5214",
   "metadata": {},
   "outputs": [],
   "source": [
    "print(os.getcwd())"
   ]
  },
  {
   "cell_type": "code",
   "execution_count": null,
   "id": "f0806fe0",
   "metadata": {},
   "outputs": [],
   "source": [
    "merded_popular_tracks_df.to_csv('popular_tracks.csv', index=False, header=True)"
   ]
  },
  {
   "cell_type": "code",
   "execution_count": null,
   "id": "c88cd428",
   "metadata": {},
   "outputs": [],
   "source": []
  }
 ],
 "metadata": {
  "kernelspec": {
   "display_name": "Python 3 (ipykernel)",
   "language": "python",
   "name": "python3"
  },
  "language_info": {
   "codemirror_mode": {
    "name": "ipython",
    "version": 3
   },
   "file_extension": ".py",
   "mimetype": "text/x-python",
   "name": "python",
   "nbconvert_exporter": "python",
   "pygments_lexer": "ipython3",
   "version": "3.11.4"
  }
 },
 "nbformat": 4,
 "nbformat_minor": 5
}
