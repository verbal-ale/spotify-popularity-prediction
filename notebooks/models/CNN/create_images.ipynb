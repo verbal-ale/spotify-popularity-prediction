{
 "cells": [
  {
   "cell_type": "code",
   "execution_count": null,
   "metadata": {},
   "outputs": [],
   "source": [
    "import pandas as pd\n",
    "import numpy as np\n",
    "import matplotlib.pyplot as plt\n",
    "import librosa\n",
    "import librosa.display\n",
    "import requests\n",
    "from PIL import Image\n",
    "import os"
   ]
  },
  {
   "cell_type": "markdown",
   "metadata": {},
   "source": [
    "## This Notebook is used for creating spectrograms using library Librosa. "
   ]
  },
  {
   "cell_type": "markdown",
   "metadata": {},
   "source": [
    "This code is an integral part of a data processing workflow aimed at downloading audio files and generating their corresponding spectrograms. It begins by ensuring that two directories, **./Audio_Files** and **./Spectograms_images**, are present to store the downloaded audio files and their spectrograms. The process then involves reading a CSV file containing URLs for audio previews, which are the source for the audio samples.\n",
    "\n",
    "A notable feature of the code is its ability to resume processing from the last completed task if interrupted, using a **last_processed_id** as a reference. This is followed by defining a function, **extract_sample_id**, which extracts the unique sample ID from the URL, crucial for subsequent steps.\n",
    "\n",
    "The core of the script lies in the **process_sample** function. This function handles several tasks, including constructing the URL for audio download, saving the audio file, and then using librosa, an audio analysis library, to load and transform the audio into a spectrogram. The spectrogram, a visual representation of the audio's frequency spectrum, is then resized, normalized, and saved as an image.\n",
    "\n",
    "The script methodically processes each sample in the CSV file, starting from the point immediately following the **last_processed_id**. For each sample, the script extracts the ID, processes the audio, and generates a spectrogram, efficiently managing any errors and logging the progress. Upon completing the processing of all samples, the script signals its completion."
   ]
  },
  {
   "cell_type": "code",
   "execution_count": null,
   "metadata": {},
   "outputs": [],
   "source": [
    "# Make sure the required folders exist\n",
    "os.makedirs('./Audio_Files', exist_ok=True)\n",
    "os.makedirs('./Spectograms_images', exist_ok=True)\n",
    "\n",
    "# Read the CSV file\n",
    "df = pd.read_csv('/Users/sasha.cures/Documents/GitHub/group-coursework-machine-learners/data/preview_urls/preview_urls_0.csv')\n",
    "\n",
    "# Define the last processed sample ID if process was interrupted\n",
    "last_processed_id = 'd9ffc253bee00cd49f21e28dc898363866c8c327'\n",
    "\n",
    "# Function to extract sample ID from URL\n",
    "def extract_sample_id(url):\n",
    "    parts = url.split('/')\n",
    "    sample_id = parts[-1].split('?')[0]\n",
    "    return sample_id\n",
    "\n",
    "# Function to process each sample\n",
    "def process_sample(sample_id):\n",
    "    try:\n",
    "        audio_url = f'https://p.scdn.co/mp3-preview/{sample_id}?cid=a7cee8cf12b141928cb92bf2570b079c'\n",
    "        response = requests.get(audio_url)\n",
    "\n",
    "        # Check if the request was successful\n",
    "        if response.status_code != 200:\n",
    "            print(f\"Failed to download {sample_id}\")\n",
    "            return\n",
    "\n",
    "        # Download and save the audio file\n",
    "        audio_file_path = f'./Audio_Files/{sample_id}.LOFI.mp3'\n",
    "        with open(audio_file_path, 'wb') as file:\n",
    "            file.write(response.content)\n",
    "\n",
    "        # Load audio file with Librosa\n",
    "        y, sr = librosa.load(audio_file_path, sr=None)\n",
    "\n",
    "        # Generate a spectrogram\n",
    "        D = librosa.amplitude_to_db(np.abs(librosa.stft(y)), ref=np.max)\n",
    "\n",
    "        # Resize and normalize the spectrogram\n",
    "        target_size = (224, 224)\n",
    "        D_resized = np.asarray(Image.fromarray(D).resize(target_size, Image.BICUBIC))\n",
    "        D_resized = (D_resized - D_resized.min()) / (D_resized.max() - D_resized.min())\n",
    "\n",
    "        # Save the resized spectrogram as an image\n",
    "        image_path = f'./Spectograms_images/{sample_id}_spectrogram.png'\n",
    "        plt.imsave(image_path, D_resized, cmap='gray', format='png')\n",
    "\n",
    "        print(f\"Spectrogram saved for {sample_id}\")\n",
    "\n",
    "    except Exception as e:\n",
    "        print(f\"Error processing {sample_id}: {e}\")\n",
    "\n",
    "# Find the index of the last processed sample\n",
    "last_index = df[df['Preview_URL'].str.contains(last_processed_id)].index[0]\n",
    "\n",
    "# Start processing from the next sample\n",
    "for index, row in df.iloc[last_index + 1:].iterrows():\n",
    "    sample_id = extract_sample_id(row['Preview_URL'])\n",
    "    process_sample(sample_id)\n",
    "\n",
    "print(\"Processing completed.\")"
   ]
  }
 ],
 "metadata": {
  "kernelspec": {
   "display_name": "base",
   "language": "python",
   "name": "python3"
  },
  "language_info": {
   "codemirror_mode": {
    "name": "ipython",
    "version": 3
   },
   "file_extension": ".py",
   "mimetype": "text/x-python",
   "name": "python",
   "nbconvert_exporter": "python",
   "pygments_lexer": "ipython3",
   "version": "3.11.5"
  }
 },
 "nbformat": 4,
 "nbformat_minor": 2
}
