{
 "cells": [
  {
   "cell_type": "code",
   "execution_count": null,
   "id": "9fece6d5",
   "metadata": {},
   "outputs": [],
   "source": [
    "import json\n",
    "import time\n",
    "import sys\n",
    "\n",
    "from datetime import datetime\n",
    "import pandas as pd\n",
    "\n",
    "import spotipy\n",
    "from spotipy.oauth2 import SpotifyClientCredentials\n"
   ]
  },
  {
   "cell_type": "markdown",
   "metadata": {},
   "source": [
    "This Notebook is used to getting preview_url from Spotify using Spotify developer account.\n",
    "\n",
    "Please note that fetching previews will take a big amount of time. It depends on your network connection and precessing power of the machine you are running the notebook on"
   ]
  },
  {
   "cell_type": "markdown",
   "metadata": {},
   "source": [
    "Please change below from your Spotify developer account"
   ]
  },
  {
   "cell_type": "code",
   "execution_count": null,
   "id": "e39426c3",
   "metadata": {},
   "outputs": [],
   "source": [
    "#Log in using Client ID and secret given from your spotify developer account\n",
    "cid = \"5efa6b4c52b0498ba99ca31f0974dfea\"\n",
    "secret = \"e5b16d1d00f94996ad0f8b9150d4d3e4\""
   ]
  },
  {
   "cell_type": "code",
   "execution_count": null,
   "id": "8a70fedd",
   "metadata": {},
   "outputs": [],
   "source": [
    "#Authentication - without user\n",
    "client_credentials_manager = SpotifyClientCredentials(client_id=cid, client_secret=secret)\n",
    "sp = spotipy.Spotify(client_credentials_manager = client_credentials_manager)\n",
    "sp.trace = True"
   ]
  },
  {
   "cell_type": "code",
   "execution_count": null,
   "id": "17795c88",
   "metadata": {},
   "outputs": [],
   "source": [
    "# Read the CSV file\n",
    "df = pd.read_csv('/Users/sasha.cures/Documents/GitHub/group-coursework-machine-learners/notebooks/CNN/sp_popular_tracks_ids.csv')\n",
    "\n",
    "# Get all the values from the CSV column except the header\n",
    "all_values = df.iloc[1:, 0].astype(str).values.tolist()"
   ]
  },
  {
   "cell_type": "code",
   "execution_count": null,
   "id": "6a8aad3c",
   "metadata": {},
   "outputs": [],
   "source": [
    "# Create a list to store the chunks\n",
    "chunks = []"
   ]
  },
  {
   "cell_type": "code",
   "execution_count": null,
   "id": "18c00bda",
   "metadata": {},
   "outputs": [],
   "source": [
    "# Define the chunk size and string size\n",
    "chunk_size = 5000\n",
    "string_size = 50"
   ]
  },
  {
   "cell_type": "code",
   "execution_count": null,
   "id": "1d3d3090",
   "metadata": {},
   "outputs": [],
   "source": [
    "# Initialize counters\n",
    "current_chunk = []\n",
    "current_string = [] "
   ]
  },
  {
   "cell_type": "markdown",
   "metadata": {},
   "source": [
    "Sort data into chunks"
   ]
  },
  {
   "cell_type": "code",
   "execution_count": null,
   "id": "934be8f3",
   "metadata": {},
   "outputs": [],
   "source": [
    "for value in all_values:\n",
    "    current_string.append(value)\n",
    "\n",
    "    # Check if the current string size has reached 50\n",
    "    if len(current_string) == string_size:\n",
    "        current_chunk.append(','.join(current_string))\n",
    "        current_string = []\n",
    "\n",
    "    # Check if the current chunk size has reached 5000\n",
    "    if len(current_chunk) == chunk_size:\n",
    "        chunks.append(current_chunk)\n",
    "        current_chunk = []\n",
    "\n",
    "# Append any remaining values\n",
    "if current_chunk:\n",
    "    chunks.append(current_chunk)"
   ]
  },
  {
   "cell_type": "markdown",
   "metadata": {},
   "source": [
    "Create function for fetching preview url from Spotify"
   ]
  },
  {
   "cell_type": "code",
   "execution_count": null,
   "metadata": {},
   "outputs": [],
   "source": [
    "def fetch_preview_urls(chunks, chunk_index):\n",
    "    if chunk_index < 0 or chunk_index >= len(chunks):\n",
    "        print(\"Invalid chunk index\")\n",
    "        return [], []\n",
    "\n",
    "    preview_urls = []\n",
    "    no_preview_track_ids = []\n",
    "    chunk = chunks[chunk_index]\n",
    "\n",
    "    for track_ids_string in chunk:\n",
    "        track_ids = track_ids_string.split(',')\n",
    "        \n",
    "        try:\n",
    "            tracks_info = sp.tracks(tracks=track_ids)\n",
    "            \n",
    "            for track in tracks_info['tracks']:\n",
    "                preview_url = track.get('preview_url')\n",
    "                track_id = track.get('id')\n",
    "                if preview_url:\n",
    "                    preview_urls.append((preview_url, track_id))  # Store as a tuple\n",
    "                else:\n",
    "                    no_preview_track_ids.append(track_id)\n",
    "\n",
    "        except requests.exceptions.HTTPError as e:\n",
    "            if e.response.status_code == 429:\n",
    "                wait_time = int(e.response.headers.get('Retry-After', 1))\n",
    "                print(f\"Rate limit reached. Waiting for {wait_time} seconds.\")\n",
    "                time.sleep(wait_time)\n",
    "            else:\n",
    "                print(f\"HTTP error: {str(e)}\")\n",
    "        except Exception as e:\n",
    "            print(f\"Error: {str(e)}\")\n",
    "\n",
    "    return preview_urls, no_preview_track_ids\n"
   ]
  },
  {
   "cell_type": "markdown",
   "metadata": {},
   "source": [
    "Specify desired chunk of data to iterate over"
   ]
  },
  {
   "cell_type": "code",
   "execution_count": null,
   "id": "bc79c2b1",
   "metadata": {},
   "outputs": [],
   "source": [
    "desired_chunk_index = 2 # Starts from 0"
   ]
  },
  {
   "cell_type": "markdown",
   "metadata": {},
   "source": [
    "Iterate through chunk fetching previews from Spotify"
   ]
  },
  {
   "cell_type": "code",
   "execution_count": null,
   "id": "db89bcc0",
   "metadata": {},
   "outputs": [],
   "source": [
    "if 0 <= desired_chunk_index < len(chunks):\n",
    "    # Fetch preview URLs and track IDs without preview URLs\n",
    "    preview_urls, no_preview_track_ids = fetch_preview_urls(chunks, desired_chunk_index)\n",
    "\n",
    "    preview_urls, track_ids = zip(*preview_urls)\n",
    "    \n",
    "    # Create DataFrames\n",
    "    preview_df = pd.DataFrame({'Preview_URL': preview_urls, 'Track_ID': track_ids})\n",
    "    no_preview_df = pd.DataFrame({'No_Preview_Track_ID': no_preview_track_ids})\n",
    "\n",
    "    # Save the DataFrames to CSV files\n",
    "    preview_df.to_csv('./Spectograms_images/preview_urls_'+str(desired_chunk_index)+'.csv', index=False)\n",
    "    no_preview_df.to_csv('./Spectograms_images/no_preview_track_ids_'+str(desired_chunk_index)+'.csv', index=False)\n",
    "\n",
    "    print(f'Desired Chunk {desired_chunk_index} Preview URLs saved to \"preview_urls.csv\"')\n",
    "    print(f'Track IDs without preview URLs from Chunk {desired_chunk_index} saved to \"no_preview_track_ids.csv\"')\n",
    "else:\n",
    "    print('Invalid chunk index')"
   ]
  }
 ],
 "metadata": {
  "kernelspec": {
   "display_name": "Python 3",
   "language": "python",
   "name": "python3"
  },
  "language_info": {
   "codemirror_mode": {
    "name": "ipython",
    "version": 3
   },
   "file_extension": ".py",
   "mimetype": "text/x-python",
   "name": "python",
   "nbconvert_exporter": "python",
   "pygments_lexer": "ipython3",
   "version": "3.11.5"
  }
 },
 "nbformat": 4,
 "nbformat_minor": 5
}
