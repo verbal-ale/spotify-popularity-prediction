{
  "nbformat": 4,
  "nbformat_minor": 0,
  "metadata": {
    "colab": {
      "provenance": []
    },
    "kernelspec": {
      "name": "python3",
      "display_name": "Python 3"
    },
    "language_info": {
      "name": "python"
    },
    "accelerator": "TPU"
  },
  "cells": [
    {
      "cell_type": "markdown",
      "source": [
        "## 1. Setting up\n",
        "\n",
        "Importing key libraries."
      ],
      "metadata": {
        "id": "qpd1XmmAxIB5"
      }
    },
    {
      "cell_type": "code",
      "source": [
        "import os\n",
        "import numpy as np\n",
        "import pandas as pd\n",
        "import matplotlib.pyplot as plt\n",
        "import seaborn as sns"
      ],
      "metadata": {
        "id": "H99K3mDRD2p5"
      },
      "execution_count": null,
      "outputs": []
    },
    {
      "cell_type": "code",
      "source": [
        "data_dir = os.getcwd()[:-13] +'data\\'\n",
        "file_name = 'processed_data.csv'\n",
        "os.chdir(data_dir)\n",
        "#Read the data\n",
        "data = pd.read_csv(file_name)"
      ],
      "metadata": {
        "id": "wR0ctPSeD7xS"
      },
      "execution_count": null,
      "outputs": []
    },
    {
      "cell_type": "code",
      "source": [
        "data.info()"
      ],
      "metadata": {
        "colab": {
          "base_uri": "https://localhost:8080/"
        },
        "id": "n-x9iVOgzR9y",
        "outputId": "a30f0646-4956-492a-e385-f99b42c82df5"
      },
      "execution_count": null,
      "outputs": [
        {
          "output_type": "stream",
          "name": "stdout",
          "text": [
            "<class 'pandas.core.frame.DataFrame'>\n",
            "RangeIndex: 451325 entries, 0 to 451324\n",
            "Data columns (total 19 columns):\n",
            " #   Column            Non-Null Count   Dtype  \n",
            "---  ------            --------------   -----  \n",
            " 0   acousticness      451325 non-null  float64\n",
            " 1   artist_name       451325 non-null  object \n",
            " 2   danceability      451325 non-null  float64\n",
            " 3   duration_m        451325 non-null  float64\n",
            " 4   energy            451325 non-null  float64\n",
            " 5   explicit          451325 non-null  object \n",
            " 6   instrumentalness  451325 non-null  float64\n",
            " 7   key               451325 non-null  int64  \n",
            " 8   liveness          451325 non-null  float64\n",
            " 9   loudness          451325 non-null  float64\n",
            " 10  mode              451325 non-null  int64  \n",
            " 11  month             451325 non-null  int64  \n",
            " 12  popularity        451325 non-null  float64\n",
            " 13  preview_url       451325 non-null  object \n",
            " 14  speechiness       451325 non-null  float64\n",
            " 15  tempo             451325 non-null  int64  \n",
            " 16  track_id          451325 non-null  object \n",
            " 17  valence           451325 non-null  float64\n",
            " 18  year              451325 non-null  int64  \n",
            "dtypes: float64(10), int64(5), object(4)\n",
            "memory usage: 65.4+ MB\n"
          ]
        }
      ]
    },
    {
      "cell_type": "markdown",
      "source": [
        "## 2. Handling categorical data\n",
        "\n",
        "Handling of two categorical variables, \"key\" and \"mode,\" through the application of one-hot encoding. One-hot encoding is a technique that transforms categorical variables into binary vectors, allowing our models to effectively incorporate these categorical attributes into the analysis."
      ],
      "metadata": {
        "id": "nazToK-pKCY3"
      }
    },
    {
      "cell_type": "code",
      "source": [
        "data = pd.get_dummies(data, columns=['key', 'mode'], drop_first=True) # Creates binary (dummy) variables for each category within the \"key\" and \"mode\" columns."
      ],
      "metadata": {
        "id": "mgLigBV_yI6p"
      },
      "execution_count": null,
      "outputs": []
    },
    {
      "cell_type": "code",
      "source": [
        "pd.set_option('display.max_columns', None) #To display all the columns\n",
        "data.head()"
      ],
      "metadata": {
        "colab": {
          "base_uri": "https://localhost:8080/",
          "height": 312
        },
        "id": "FWDWl5RAyMuJ",
        "outputId": "2c657062-5172-4f85-95a5-16354f5e49b8"
      },
      "execution_count": null,
      "outputs": [
        {
          "output_type": "execute_result",
          "data": {
            "text/plain": [
              "   acousticness      artist_name  danceability  duration_m  energy explicit  \\\n",
              "0       0.00126      Headhunterz         0.355    2.943667   0.881        f   \n",
              "1       0.18700      Headhunterz         0.552    3.902767   0.829        f   \n",
              "2       0.02730  Crossing Colors         0.839    5.818183   0.721        f   \n",
              "3       0.01430    Brennan Heart         0.543    3.520000   0.827        f   \n",
              "4       0.01080    Brennan Heart         0.623    3.946667   0.832        f   \n",
              "\n",
              "   instrumentalness  liveness  loudness  month  popularity  \\\n",
              "0          0.000002    0.0694    -3.962      7        26.0   \n",
              "1          0.000054    0.2830    -4.988      9        51.0   \n",
              "2          0.900000    0.0667    -7.721      7         9.0   \n",
              "3          0.000000    0.0842    -3.585      5        46.0   \n",
              "4          0.000000    0.0487    -3.348      5        17.0   \n",
              "\n",
              "                                         preview_url  speechiness  tempo  \\\n",
              "0  https://p.scdn.co/mp3-preview/4229181352cb0c16...       0.1800     75   \n",
              "1  https://p.scdn.co/mp3-preview/4d5c7620737fbd8e...       0.0845    150   \n",
              "2  https://p.scdn.co/mp3-preview/d8e54d5d229948b9...       0.0477    110   \n",
              "3  https://p.scdn.co/mp3-preview/a8e60e3bd2defda5...       0.0350    150   \n",
              "4  https://p.scdn.co/mp3-preview/758c6b9f2ff9b87b...       0.0566    150   \n",
              "\n",
              "                 track_id  valence  year  key_1  key_2  key_3  key_4  key_5  \\\n",
              "0  7o7Qx3kulN6A0uOaAPf5Vz    0.190  2022      0      0      0      0      0   \n",
              "1  0zolxiS5uiL5towOJrsJi4    0.367  2019      0      0      0      0      0   \n",
              "2  6AJ1Rk1khe1egig27nXImU    0.768  2018      0      0      0      0      0   \n",
              "3  2KM4KCDbbfOvQ5cgWADd0Z    0.123  2021      1      0      0      0      0   \n",
              "4  7t2gGVF4Q7QnFM9dt9F0qE    0.439  2021      1      0      0      0      0   \n",
              "\n",
              "   key_6  key_7  key_8  key_9  key_10  key_11  mode_1  \n",
              "0      0      0      0      1       0       0       1  \n",
              "1      1      0      0      0       0       0       0  \n",
              "2      0      0      0      1       0       0       0  \n",
              "3      0      0      0      0       0       0       0  \n",
              "4      0      0      0      0       0       0       0  "
            ],
            "text/html": [
              "\n",
              "  <div id=\"df-5da1b229-f55a-4aec-8f11-3bf73d10bb1d\" class=\"colab-df-container\">\n",
              "    <div>\n",
              "<style scoped>\n",
              "    .dataframe tbody tr th:only-of-type {\n",
              "        vertical-align: middle;\n",
              "    }\n",
              "\n",
              "    .dataframe tbody tr th {\n",
              "        vertical-align: top;\n",
              "    }\n",
              "\n",
              "    .dataframe thead th {\n",
              "        text-align: right;\n",
              "    }\n",
              "</style>\n",
              "<table border=\"1\" class=\"dataframe\">\n",
              "  <thead>\n",
              "    <tr style=\"text-align: right;\">\n",
              "      <th></th>\n",
              "      <th>acousticness</th>\n",
              "      <th>artist_name</th>\n",
              "      <th>danceability</th>\n",
              "      <th>duration_m</th>\n",
              "      <th>energy</th>\n",
              "      <th>explicit</th>\n",
              "      <th>instrumentalness</th>\n",
              "      <th>liveness</th>\n",
              "      <th>loudness</th>\n",
              "      <th>month</th>\n",
              "      <th>popularity</th>\n",
              "      <th>preview_url</th>\n",
              "      <th>speechiness</th>\n",
              "      <th>tempo</th>\n",
              "      <th>track_id</th>\n",
              "      <th>valence</th>\n",
              "      <th>year</th>\n",
              "      <th>key_1</th>\n",
              "      <th>key_2</th>\n",
              "      <th>key_3</th>\n",
              "      <th>key_4</th>\n",
              "      <th>key_5</th>\n",
              "      <th>key_6</th>\n",
              "      <th>key_7</th>\n",
              "      <th>key_8</th>\n",
              "      <th>key_9</th>\n",
              "      <th>key_10</th>\n",
              "      <th>key_11</th>\n",
              "      <th>mode_1</th>\n",
              "    </tr>\n",
              "  </thead>\n",
              "  <tbody>\n",
              "    <tr>\n",
              "      <th>0</th>\n",
              "      <td>0.00126</td>\n",
              "      <td>Headhunterz</td>\n",
              "      <td>0.355</td>\n",
              "      <td>2.943667</td>\n",
              "      <td>0.881</td>\n",
              "      <td>f</td>\n",
              "      <td>0.000002</td>\n",
              "      <td>0.0694</td>\n",
              "      <td>-3.962</td>\n",
              "      <td>7</td>\n",
              "      <td>26.0</td>\n",
              "      <td>https://p.scdn.co/mp3-preview/4229181352cb0c16...</td>\n",
              "      <td>0.1800</td>\n",
              "      <td>75</td>\n",
              "      <td>7o7Qx3kulN6A0uOaAPf5Vz</td>\n",
              "      <td>0.190</td>\n",
              "      <td>2022</td>\n",
              "      <td>0</td>\n",
              "      <td>0</td>\n",
              "      <td>0</td>\n",
              "      <td>0</td>\n",
              "      <td>0</td>\n",
              "      <td>0</td>\n",
              "      <td>0</td>\n",
              "      <td>0</td>\n",
              "      <td>1</td>\n",
              "      <td>0</td>\n",
              "      <td>0</td>\n",
              "      <td>1</td>\n",
              "    </tr>\n",
              "    <tr>\n",
              "      <th>1</th>\n",
              "      <td>0.18700</td>\n",
              "      <td>Headhunterz</td>\n",
              "      <td>0.552</td>\n",
              "      <td>3.902767</td>\n",
              "      <td>0.829</td>\n",
              "      <td>f</td>\n",
              "      <td>0.000054</td>\n",
              "      <td>0.2830</td>\n",
              "      <td>-4.988</td>\n",
              "      <td>9</td>\n",
              "      <td>51.0</td>\n",
              "      <td>https://p.scdn.co/mp3-preview/4d5c7620737fbd8e...</td>\n",
              "      <td>0.0845</td>\n",
              "      <td>150</td>\n",
              "      <td>0zolxiS5uiL5towOJrsJi4</td>\n",
              "      <td>0.367</td>\n",
              "      <td>2019</td>\n",
              "      <td>0</td>\n",
              "      <td>0</td>\n",
              "      <td>0</td>\n",
              "      <td>0</td>\n",
              "      <td>0</td>\n",
              "      <td>1</td>\n",
              "      <td>0</td>\n",
              "      <td>0</td>\n",
              "      <td>0</td>\n",
              "      <td>0</td>\n",
              "      <td>0</td>\n",
              "      <td>0</td>\n",
              "    </tr>\n",
              "    <tr>\n",
              "      <th>2</th>\n",
              "      <td>0.02730</td>\n",
              "      <td>Crossing Colors</td>\n",
              "      <td>0.839</td>\n",
              "      <td>5.818183</td>\n",
              "      <td>0.721</td>\n",
              "      <td>f</td>\n",
              "      <td>0.900000</td>\n",
              "      <td>0.0667</td>\n",
              "      <td>-7.721</td>\n",
              "      <td>7</td>\n",
              "      <td>9.0</td>\n",
              "      <td>https://p.scdn.co/mp3-preview/d8e54d5d229948b9...</td>\n",
              "      <td>0.0477</td>\n",
              "      <td>110</td>\n",
              "      <td>6AJ1Rk1khe1egig27nXImU</td>\n",
              "      <td>0.768</td>\n",
              "      <td>2018</td>\n",
              "      <td>0</td>\n",
              "      <td>0</td>\n",
              "      <td>0</td>\n",
              "      <td>0</td>\n",
              "      <td>0</td>\n",
              "      <td>0</td>\n",
              "      <td>0</td>\n",
              "      <td>0</td>\n",
              "      <td>1</td>\n",
              "      <td>0</td>\n",
              "      <td>0</td>\n",
              "      <td>0</td>\n",
              "    </tr>\n",
              "    <tr>\n",
              "      <th>3</th>\n",
              "      <td>0.01430</td>\n",
              "      <td>Brennan Heart</td>\n",
              "      <td>0.543</td>\n",
              "      <td>3.520000</td>\n",
              "      <td>0.827</td>\n",
              "      <td>f</td>\n",
              "      <td>0.000000</td>\n",
              "      <td>0.0842</td>\n",
              "      <td>-3.585</td>\n",
              "      <td>5</td>\n",
              "      <td>46.0</td>\n",
              "      <td>https://p.scdn.co/mp3-preview/a8e60e3bd2defda5...</td>\n",
              "      <td>0.0350</td>\n",
              "      <td>150</td>\n",
              "      <td>2KM4KCDbbfOvQ5cgWADd0Z</td>\n",
              "      <td>0.123</td>\n",
              "      <td>2021</td>\n",
              "      <td>1</td>\n",
              "      <td>0</td>\n",
              "      <td>0</td>\n",
              "      <td>0</td>\n",
              "      <td>0</td>\n",
              "      <td>0</td>\n",
              "      <td>0</td>\n",
              "      <td>0</td>\n",
              "      <td>0</td>\n",
              "      <td>0</td>\n",
              "      <td>0</td>\n",
              "      <td>0</td>\n",
              "    </tr>\n",
              "    <tr>\n",
              "      <th>4</th>\n",
              "      <td>0.01080</td>\n",
              "      <td>Brennan Heart</td>\n",
              "      <td>0.623</td>\n",
              "      <td>3.946667</td>\n",
              "      <td>0.832</td>\n",
              "      <td>f</td>\n",
              "      <td>0.000000</td>\n",
              "      <td>0.0487</td>\n",
              "      <td>-3.348</td>\n",
              "      <td>5</td>\n",
              "      <td>17.0</td>\n",
              "      <td>https://p.scdn.co/mp3-preview/758c6b9f2ff9b87b...</td>\n",
              "      <td>0.0566</td>\n",
              "      <td>150</td>\n",
              "      <td>7t2gGVF4Q7QnFM9dt9F0qE</td>\n",
              "      <td>0.439</td>\n",
              "      <td>2021</td>\n",
              "      <td>1</td>\n",
              "      <td>0</td>\n",
              "      <td>0</td>\n",
              "      <td>0</td>\n",
              "      <td>0</td>\n",
              "      <td>0</td>\n",
              "      <td>0</td>\n",
              "      <td>0</td>\n",
              "      <td>0</td>\n",
              "      <td>0</td>\n",
              "      <td>0</td>\n",
              "      <td>0</td>\n",
              "    </tr>\n",
              "  </tbody>\n",
              "</table>\n",
              "</div>\n",
              "    <div class=\"colab-df-buttons\">\n",
              "\n",
              "  <div class=\"colab-df-container\">\n",
              "    <button class=\"colab-df-convert\" onclick=\"convertToInteractive('df-5da1b229-f55a-4aec-8f11-3bf73d10bb1d')\"\n",
              "            title=\"Convert this dataframe to an interactive table.\"\n",
              "            style=\"display:none;\">\n",
              "\n",
              "  <svg xmlns=\"http://www.w3.org/2000/svg\" height=\"24px\" viewBox=\"0 -960 960 960\">\n",
              "    <path d=\"M120-120v-720h720v720H120Zm60-500h600v-160H180v160Zm220 220h160v-160H400v160Zm0 220h160v-160H400v160ZM180-400h160v-160H180v160Zm440 0h160v-160H620v160ZM180-180h160v-160H180v160Zm440 0h160v-160H620v160Z\"/>\n",
              "  </svg>\n",
              "    </button>\n",
              "\n",
              "  <style>\n",
              "    .colab-df-container {\n",
              "      display:flex;\n",
              "      gap: 12px;\n",
              "    }\n",
              "\n",
              "    .colab-df-convert {\n",
              "      background-color: #E8F0FE;\n",
              "      border: none;\n",
              "      border-radius: 50%;\n",
              "      cursor: pointer;\n",
              "      display: none;\n",
              "      fill: #1967D2;\n",
              "      height: 32px;\n",
              "      padding: 0 0 0 0;\n",
              "      width: 32px;\n",
              "    }\n",
              "\n",
              "    .colab-df-convert:hover {\n",
              "      background-color: #E2EBFA;\n",
              "      box-shadow: 0px 1px 2px rgba(60, 64, 67, 0.3), 0px 1px 3px 1px rgba(60, 64, 67, 0.15);\n",
              "      fill: #174EA6;\n",
              "    }\n",
              "\n",
              "    .colab-df-buttons div {\n",
              "      margin-bottom: 4px;\n",
              "    }\n",
              "\n",
              "    [theme=dark] .colab-df-convert {\n",
              "      background-color: #3B4455;\n",
              "      fill: #D2E3FC;\n",
              "    }\n",
              "\n",
              "    [theme=dark] .colab-df-convert:hover {\n",
              "      background-color: #434B5C;\n",
              "      box-shadow: 0px 1px 3px 1px rgba(0, 0, 0, 0.15);\n",
              "      filter: drop-shadow(0px 1px 2px rgba(0, 0, 0, 0.3));\n",
              "      fill: #FFFFFF;\n",
              "    }\n",
              "  </style>\n",
              "\n",
              "    <script>\n",
              "      const buttonEl =\n",
              "        document.querySelector('#df-5da1b229-f55a-4aec-8f11-3bf73d10bb1d button.colab-df-convert');\n",
              "      buttonEl.style.display =\n",
              "        google.colab.kernel.accessAllowed ? 'block' : 'none';\n",
              "\n",
              "      async function convertToInteractive(key) {\n",
              "        const element = document.querySelector('#df-5da1b229-f55a-4aec-8f11-3bf73d10bb1d');\n",
              "        const dataTable =\n",
              "          await google.colab.kernel.invokeFunction('convertToInteractive',\n",
              "                                                    [key], {});\n",
              "        if (!dataTable) return;\n",
              "\n",
              "        const docLinkHtml = 'Like what you see? Visit the ' +\n",
              "          '<a target=\"_blank\" href=https://colab.research.google.com/notebooks/data_table.ipynb>data table notebook</a>'\n",
              "          + ' to learn more about interactive tables.';\n",
              "        element.innerHTML = '';\n",
              "        dataTable['output_type'] = 'display_data';\n",
              "        await google.colab.output.renderOutput(dataTable, element);\n",
              "        const docLink = document.createElement('div');\n",
              "        docLink.innerHTML = docLinkHtml;\n",
              "        element.appendChild(docLink);\n",
              "      }\n",
              "    </script>\n",
              "  </div>\n",
              "\n",
              "\n",
              "<div id=\"df-afd3f47f-3741-4d6e-a1da-07b45d119601\">\n",
              "  <button class=\"colab-df-quickchart\" onclick=\"quickchart('df-afd3f47f-3741-4d6e-a1da-07b45d119601')\"\n",
              "            title=\"Suggest charts\"\n",
              "            style=\"display:none;\">\n",
              "\n",
              "<svg xmlns=\"http://www.w3.org/2000/svg\" height=\"24px\"viewBox=\"0 0 24 24\"\n",
              "     width=\"24px\">\n",
              "    <g>\n",
              "        <path d=\"M19 3H5c-1.1 0-2 .9-2 2v14c0 1.1.9 2 2 2h14c1.1 0 2-.9 2-2V5c0-1.1-.9-2-2-2zM9 17H7v-7h2v7zm4 0h-2V7h2v10zm4 0h-2v-4h2v4z\"/>\n",
              "    </g>\n",
              "</svg>\n",
              "  </button>\n",
              "\n",
              "<style>\n",
              "  .colab-df-quickchart {\n",
              "      --bg-color: #E8F0FE;\n",
              "      --fill-color: #1967D2;\n",
              "      --hover-bg-color: #E2EBFA;\n",
              "      --hover-fill-color: #174EA6;\n",
              "      --disabled-fill-color: #AAA;\n",
              "      --disabled-bg-color: #DDD;\n",
              "  }\n",
              "\n",
              "  [theme=dark] .colab-df-quickchart {\n",
              "      --bg-color: #3B4455;\n",
              "      --fill-color: #D2E3FC;\n",
              "      --hover-bg-color: #434B5C;\n",
              "      --hover-fill-color: #FFFFFF;\n",
              "      --disabled-bg-color: #3B4455;\n",
              "      --disabled-fill-color: #666;\n",
              "  }\n",
              "\n",
              "  .colab-df-quickchart {\n",
              "    background-color: var(--bg-color);\n",
              "    border: none;\n",
              "    border-radius: 50%;\n",
              "    cursor: pointer;\n",
              "    display: none;\n",
              "    fill: var(--fill-color);\n",
              "    height: 32px;\n",
              "    padding: 0;\n",
              "    width: 32px;\n",
              "  }\n",
              "\n",
              "  .colab-df-quickchart:hover {\n",
              "    background-color: var(--hover-bg-color);\n",
              "    box-shadow: 0 1px 2px rgba(60, 64, 67, 0.3), 0 1px 3px 1px rgba(60, 64, 67, 0.15);\n",
              "    fill: var(--button-hover-fill-color);\n",
              "  }\n",
              "\n",
              "  .colab-df-quickchart-complete:disabled,\n",
              "  .colab-df-quickchart-complete:disabled:hover {\n",
              "    background-color: var(--disabled-bg-color);\n",
              "    fill: var(--disabled-fill-color);\n",
              "    box-shadow: none;\n",
              "  }\n",
              "\n",
              "  .colab-df-spinner {\n",
              "    border: 2px solid var(--fill-color);\n",
              "    border-color: transparent;\n",
              "    border-bottom-color: var(--fill-color);\n",
              "    animation:\n",
              "      spin 1s steps(1) infinite;\n",
              "  }\n",
              "\n",
              "  @keyframes spin {\n",
              "    0% {\n",
              "      border-color: transparent;\n",
              "      border-bottom-color: var(--fill-color);\n",
              "      border-left-color: var(--fill-color);\n",
              "    }\n",
              "    20% {\n",
              "      border-color: transparent;\n",
              "      border-left-color: var(--fill-color);\n",
              "      border-top-color: var(--fill-color);\n",
              "    }\n",
              "    30% {\n",
              "      border-color: transparent;\n",
              "      border-left-color: var(--fill-color);\n",
              "      border-top-color: var(--fill-color);\n",
              "      border-right-color: var(--fill-color);\n",
              "    }\n",
              "    40% {\n",
              "      border-color: transparent;\n",
              "      border-right-color: var(--fill-color);\n",
              "      border-top-color: var(--fill-color);\n",
              "    }\n",
              "    60% {\n",
              "      border-color: transparent;\n",
              "      border-right-color: var(--fill-color);\n",
              "    }\n",
              "    80% {\n",
              "      border-color: transparent;\n",
              "      border-right-color: var(--fill-color);\n",
              "      border-bottom-color: var(--fill-color);\n",
              "    }\n",
              "    90% {\n",
              "      border-color: transparent;\n",
              "      border-bottom-color: var(--fill-color);\n",
              "    }\n",
              "  }\n",
              "</style>\n",
              "\n",
              "  <script>\n",
              "    async function quickchart(key) {\n",
              "      const quickchartButtonEl =\n",
              "        document.querySelector('#' + key + ' button');\n",
              "      quickchartButtonEl.disabled = true;  // To prevent multiple clicks.\n",
              "      quickchartButtonEl.classList.add('colab-df-spinner');\n",
              "      try {\n",
              "        const charts = await google.colab.kernel.invokeFunction(\n",
              "            'suggestCharts', [key], {});\n",
              "      } catch (error) {\n",
              "        console.error('Error during call to suggestCharts:', error);\n",
              "      }\n",
              "      quickchartButtonEl.classList.remove('colab-df-spinner');\n",
              "      quickchartButtonEl.classList.add('colab-df-quickchart-complete');\n",
              "    }\n",
              "    (() => {\n",
              "      let quickchartButtonEl =\n",
              "        document.querySelector('#df-afd3f47f-3741-4d6e-a1da-07b45d119601 button');\n",
              "      quickchartButtonEl.style.display =\n",
              "        google.colab.kernel.accessAllowed ? 'block' : 'none';\n",
              "    })();\n",
              "  </script>\n",
              "</div>\n",
              "    </div>\n",
              "  </div>\n"
            ]
          },
          "metadata": {},
          "execution_count": 6
        }
      ]
    },
    {
      "cell_type": "code",
      "source": [
        "\n",
        "features = [\"acousticness\", \"danceability\", \"duration_m\", \"energy\", \"instrumentalness\", \"key_1\", \"key_2\", \"key_3\", \"key_4\", \"key_5\", \"key_6\", \"key_7\", \"key_8\", \"key_9\", \"key_10\", \"key_11\", \"liveness\",\n",
        "            \"mode_1\", \"speechiness\", \"loudness\", \"tempo\", \"valence\"]\n",
        "\n",
        "X = data[features] #data preparation\n",
        "y = data['popularity'] #target variable"
      ],
      "metadata": {
        "id": "MWyF-5EDRc2v"
      },
      "execution_count": null,
      "outputs": []
    },
    {
      "cell_type": "markdown",
      "source": [
        "## 3. Categorisation\n",
        "\n",
        "Making categories for popularity (target variable)"
      ],
      "metadata": {
        "id": "afhjflVQ0sAY"
      }
    },
    {
      "cell_type": "code",
      "source": [
        "pd.cut(data['popularity'], bins=3) #Making 3 equal bins"
      ],
      "metadata": {
        "colab": {
          "base_uri": "https://localhost:8080/"
        },
        "id": "qT72J2IYx5vp",
        "outputId": "0c769837-f234-451b-ea7c-c4bc8cce82f9"
      },
      "execution_count": null,
      "outputs": [
        {
          "output_type": "execute_result",
          "data": {
            "text/plain": [
              "0         (-0.083, 27.667]\n",
              "1         (27.667, 55.333]\n",
              "2         (-0.083, 27.667]\n",
              "3         (27.667, 55.333]\n",
              "4         (-0.083, 27.667]\n",
              "                ...       \n",
              "451320    (-0.083, 27.667]\n",
              "451321    (-0.083, 27.667]\n",
              "451322    (-0.083, 27.667]\n",
              "451323    (-0.083, 27.667]\n",
              "451324    (-0.083, 27.667]\n",
              "Name: popularity, Length: 451325, dtype: category\n",
              "Categories (3, interval[float64, right]): [(-0.083, 27.667] < (27.667, 55.333] < (55.333, 83.0]]"
            ]
          },
          "metadata": {},
          "execution_count": 8
        }
      ]
    },
    {
      "cell_type": "code",
      "source": [
        "pd.cut(data['popularity'], bins=3, labels = [\"low\", \"medium\", \"high\"]).value_counts() #value count of the bins"
      ],
      "metadata": {
        "colab": {
          "base_uri": "https://localhost:8080/"
        },
        "id": "VgG9NEXUzgFK",
        "outputId": "76fbb4e3-4ba5-4f97-f095-65fe919f25d7"
      },
      "execution_count": null,
      "outputs": [
        {
          "output_type": "execute_result",
          "data": {
            "text/plain": [
              "low       436277\n",
              "medium     14652\n",
              "high         396\n",
              "Name: popularity, dtype: int64"
            ]
          },
          "metadata": {},
          "execution_count": 9
        }
      ]
    },
    {
      "cell_type": "code",
      "source": [
        "data['label'] = pd.cut(data.popularity, bins=3, labels=[\"low\", \"medium\", \"high\"], right=True) #New label for popularity"
      ],
      "metadata": {
        "id": "z_0FCkmvz6Ra"
      },
      "execution_count": null,
      "outputs": []
    },
    {
      "cell_type": "code",
      "source": [
        "# Calculate the relative frequencies\n",
        "y = data.label\n",
        "relative_frequencies = y.value_counts() / y.count()\n",
        "\n",
        "# Create a bar plot\n",
        "sns.barplot(x=relative_frequencies.index, y=relative_frequencies.values)\n",
        "\n",
        "# labels and a title\n",
        "plt.xlabel(\"Popularity\")\n",
        "plt.ylabel(\"Relative Frequency\")\n",
        "plt.title(\"Relative Frequencies of Popularity\")\n",
        "\n",
        "# The plot\n",
        "plt.show()\n",
        "print(\"\") #For a space\n",
        "print(relative_frequencies)"
      ],
      "metadata": {
        "colab": {
          "base_uri": "https://localhost:8080/",
          "height": 559
        },
        "id": "gMkduHge1hIT",
        "outputId": "82cef2a0-3c7d-4ba4-ed70-754db7b3ad1e"
      },
      "execution_count": null,
      "outputs": [
        {
          "output_type": "display_data",
          "data": {
            "text/plain": [
              "<Figure size 640x480 with 1 Axes>"
            ],
            "image/png": "[encoded data removed]"
          },
          "metadata": {}
        },
        {
          "output_type": "stream",
          "name": "stdout",
          "text": [
            "\n",
            "low       0.966658\n",
            "medium    0.032464\n",
            "high      0.000877\n",
            "Name: label, dtype: float64\n"
          ]
        }
      ]
    },
    {
      "cell_type": "markdown",
      "source": [
        "Outcomes: The provided distribution of labeled data indicates that the \"low\" label is characterized by a significantly higher proportion in comparison to the \"high\" and \"medium\" labels. In this dataset, the \"low\" label represents the majority class, accounting for approximately 97% of the data, while the \"high\" and \"medium\" labels correspond to the minority classes, comprising roughly 3% and 0.09%, respectively.\n",
        "\n",
        "Given that the \"low\" class constitutes the majority class and the \"high\" and \"medium\" classes are identified as minority classes, therefore to maintain the uniformity of the data oversampling of the minority classes, namely \"high\" and \"medium\" is done in the following cell."
      ],
      "metadata": {
        "id": "0fmZXdUG4SkF"
      }
    },
    {
      "cell_type": "markdown",
      "source": [
        "### Oversampling:"
      ],
      "metadata": {
        "id": "4q3wB-BJ6zSw"
      }
    },
    {
      "cell_type": "markdown",
      "source": [
        "**SMOTE**\n",
        "\n",
        "Synthetic Minority Over-sampling Technique (SMOTE), generate synthetic samples rather than duplicating existing ones. SMOTE can be used in conjunction with normalization to improve the balance and scale the data effectively."
      ],
      "metadata": {
        "id": "oHG7JFYA-RpA"
      }
    },
    {
      "cell_type": "code",
      "source": [
        "from imblearn.over_sampling import SMOTE\n",
        "\n",
        "# Create an instance of the SMOTE resampler\n",
        "smote = SMOTE(sampling_strategy='auto', random_state=42)\n",
        "\n",
        "# Apply SMOTE to the feature matrix and target variable\n",
        "X_resampled, y_resampled = smote.fit_resample(X, y)\n",
        "\n",
        "# Check the class distribution after SMOTE\n",
        "print(y_resampled.value_counts())\n",
        "print(\"-----------------\")\n",
        "print(X_resampled.value_counts())"
      ],
      "metadata": {
        "colab": {
          "base_uri": "https://localhost:8080/"
        },
        "id": "2YKJ2OnL8s6l",
        "outputId": "f07011e4-d38b-497e-8e4f-4b3816d19170"
      },
      "execution_count": null,
      "outputs": [
        {
          "output_type": "stream",
          "name": "stdout",
          "text": [
            "low       436277\n",
            "medium    436277\n",
            "high      436277\n",
            "Name: label, dtype: int64\n",
            "-----------------\n",
            "acousticness  danceability  duration_m  energy  instrumentalness  key_1  key_2  key_3  key_4  key_5  key_6  key_7  key_8  key_9  key_10  key_11  liveness  mode_1  speechiness  loudness  tempo  valence\n",
            "0.00443       0.806         8.147733    0.4690  0.922000          1      0      0      0      0      0      0      0      0      0       0       0.0960    1       0.0521       -12.103   121    0.407      17\n",
            "0.00306       0.641         3.197750    0.8750  0.000082          0      0      0      0      0      0      0      0      0      0       1       0.3700    0       0.3380       -5.842    140    0.527      13\n",
            "0.05770       0.458         5.776667    0.8600  0.684000          0      0      0      0      0      0      0      1      0      0       0       0.0767    1       0.0685       -10.134   145    0.217      12\n",
            "0.12600       0.827         6.474667    0.7680  0.225000          0      0      0      0      0      0      1      0      0      0       0       0.0618    0       0.0485       -9.819    119    0.193      11\n",
            "0.01340       0.782         7.316067    0.5570  0.918000          0      0      0      0      0      0      0      0      0      1       0       0.0947    0       0.0811       -11.654   105    0.208       3\n",
            "                                                                                                                                                                                                            ..\n",
            "0.01280       0.709         3.168417    0.8030  0.057000          1      0      0      0      0      0      0      0      0      0       0       0.0926    1       0.0395       -6.453    125    0.536       1\n",
            "              0.707         4.505750    0.8640  0.907000          0      0      0      0      0      0      0      1      0      0       0       0.0741    1       0.1380       -3.648    174    0.351       1\n",
            "              0.706         4.000233    0.9400  0.000000          0      0      0      0      0      1      0      0      0      0       0       0.7130    1       0.3300       -6.525    136    0.392       1\n",
            "              0.705         4.769317    0.5130  0.011600          1      0      0      0      0      0      0      0      0      0       0       0.1770    1       0.2640       -5.307    130    0.764       1\n",
            "0.99600       0.713         4.983450    0.0434  0.984000          0      0      0      0      0      0      0      0      1      0       0       0.1060    0       0.1310       -33.437   149    0.201       1\n",
            "Length: 1308141, dtype: int64\n"
          ]
        }
      ]
    },
    {
      "cell_type": "code",
      "source": [
        "# Check the class distribution after SMOTE\n",
        "y_resampled.value_counts()"
      ],
      "metadata": {
        "colab": {
          "base_uri": "https://localhost:8080/"
        },
        "id": "PBeq_8Kn80Ft",
        "outputId": "ab1cf879-6455-4b0e-de38-2f42986d0842"
      },
      "execution_count": null,
      "outputs": [
        {
          "output_type": "execute_result",
          "data": {
            "text/plain": [
              "low       436277\n",
              "medium    436277\n",
              "high      436277\n",
              "Name: label, dtype: int64"
            ]
          },
          "metadata": {},
          "execution_count": 13
        }
      ]
    },
    {
      "cell_type": "markdown",
      "source": [
        "## 4. Normalization\n",
        "\n",
        " It's a good practice to normalize (or scale) the features that have different scales or ranges to ensure that they contribute equally to the modeling process. Normalization can improve the performance and convergence of many machine learning algorithms.\n",
        "\n",
        " Variables Consider for normalization:\n",
        "\n",
        "\n",
        "\n",
        "1. duration_ms: It's expect that the length of a song can influence its popularity, thus it is considered for normalization.\n",
        "\n",
        "2. loudness: It's on a different scale compared to the other features.\n",
        "\n",
        "3. tempo: Tempo can have a wide range of values, since it's significantly different from the range [0, 1] therefore normalized it.\n",
        "\n"
      ],
      "metadata": {
        "id": "lhzGUCf3OjnL"
      }
    },
    {
      "cell_type": "code",
      "source": [
        "from sklearn.preprocessing import StandardScaler\n",
        "\n",
        "# Create a StandardScaler instance\n",
        "scaler = StandardScaler()\n",
        "\n",
        "# Fit and transform the selected columns\n",
        "X_resampled[['duration_m', 'loudness', 'tempo']] = scaler.fit_transform(X_resampled[['duration_m', 'loudness', 'tempo']])\n",
        "\n",
        "# The rest of the features remain unchanged"
      ],
      "metadata": {
        "id": "Nv-EZu09_Xbp"
      },
      "execution_count": null,
      "outputs": []
    },
    {
      "cell_type": "code",
      "source": [
        "X_resampled.head()"
      ],
      "metadata": {
        "colab": {
          "base_uri": "https://localhost:8080/",
          "height": 226
        },
        "id": "Pumfw3vnBxmm",
        "outputId": "2008a34c-2198-477c-9c13-7781a290f1bf"
      },
      "execution_count": null,
      "outputs": [
        {
          "output_type": "execute_result",
          "data": {
            "text/plain": [
              "   acousticness  danceability  duration_m  energy  instrumentalness  key_1  \\\n",
              "0       0.00126         0.355   -0.838201   0.881          0.000002      0   \n",
              "1       0.18700         0.552   -0.312968   0.829          0.000054      0   \n",
              "2       0.02730         0.839    0.735975   0.721          0.900000      0   \n",
              "3       0.01430         0.543   -0.522583   0.827          0.000000      1   \n",
              "4       0.01080         0.623   -0.288927   0.832          0.000000      1   \n",
              "\n",
              "   key_2  key_3  key_4  key_5  key_6  key_7  key_8  key_9  key_10  key_11  \\\n",
              "0      0      0      0      0      0      0      0      1       0       0   \n",
              "1      0      0      0      0      1      0      0      0       0       0   \n",
              "2      0      0      0      0      0      0      0      1       0       0   \n",
              "3      0      0      0      0      0      0      0      0       0       0   \n",
              "4      0      0      0      0      0      0      0      0       0       0   \n",
              "\n",
              "   liveness  mode_1  speechiness  loudness     tempo  valence  \n",
              "0    0.0694       1       0.1800  0.884494 -2.220444    0.190  \n",
              "1    0.2830       0       0.0845  0.693599  1.063408    0.367  \n",
              "2    0.0667       0       0.0477  0.185104 -0.687980    0.768  \n",
              "3    0.0842       0       0.0350  0.954638  1.063408    0.123  \n",
              "4    0.0487       0       0.0566  0.998733  1.063408    0.439  "
            ],
            "text/html": [
              "\n",
              "  <div id=\"df-96b73996-e406-4cf9-ae86-52a1162fa3b9\" class=\"colab-df-container\">\n",
              "    <div>\n",
              "<style scoped>\n",
              "    .dataframe tbody tr th:only-of-type {\n",
              "        vertical-align: middle;\n",
              "    }\n",
              "\n",
              "    .dataframe tbody tr th {\n",
              "        vertical-align: top;\n",
              "    }\n",
              "\n",
              "    .dataframe thead th {\n",
              "        text-align: right;\n",
              "    }\n",
              "</style>\n",
              "<table border=\"1\" class=\"dataframe\">\n",
              "  <thead>\n",
              "    <tr style=\"text-align: right;\">\n",
              "      <th></th>\n",
              "      <th>acousticness</th>\n",
              "      <th>danceability</th>\n",
              "      <th>duration_m</th>\n",
              "      <th>energy</th>\n",
              "      <th>instrumentalness</th>\n",
              "      <th>key_1</th>\n",
              "      <th>key_2</th>\n",
              "      <th>key_3</th>\n",
              "      <th>key_4</th>\n",
              "      <th>key_5</th>\n",
              "      <th>key_6</th>\n",
              "      <th>key_7</th>\n",
              "      <th>key_8</th>\n",
              "      <th>key_9</th>\n",
              "      <th>key_10</th>\n",
              "      <th>key_11</th>\n",
              "      <th>liveness</th>\n",
              "      <th>mode_1</th>\n",
              "      <th>speechiness</th>\n",
              "      <th>loudness</th>\n",
              "      <th>tempo</th>\n",
              "      <th>valence</th>\n",
              "    </tr>\n",
              "  </thead>\n",
              "  <tbody>\n",
              "    <tr>\n",
              "      <th>0</th>\n",
              "      <td>0.00126</td>\n",
              "      <td>0.355</td>\n",
              "      <td>-0.838201</td>\n",
              "      <td>0.881</td>\n",
              "      <td>0.000002</td>\n",
              "      <td>0</td>\n",
              "      <td>0</td>\n",
              "      <td>0</td>\n",
              "      <td>0</td>\n",
              "      <td>0</td>\n",
              "      <td>0</td>\n",
              "      <td>0</td>\n",
              "      <td>0</td>\n",
              "      <td>1</td>\n",
              "      <td>0</td>\n",
              "      <td>0</td>\n",
              "      <td>0.0694</td>\n",
              "      <td>1</td>\n",
              "      <td>0.1800</td>\n",
              "      <td>0.884494</td>\n",
              "      <td>-2.220444</td>\n",
              "      <td>0.190</td>\n",
              "    </tr>\n",
              "    <tr>\n",
              "      <th>1</th>\n",
              "      <td>0.18700</td>\n",
              "      <td>0.552</td>\n",
              "      <td>-0.312968</td>\n",
              "      <td>0.829</td>\n",
              "      <td>0.000054</td>\n",
              "      <td>0</td>\n",
              "      <td>0</td>\n",
              "      <td>0</td>\n",
              "      <td>0</td>\n",
              "      <td>0</td>\n",
              "      <td>1</td>\n",
              "      <td>0</td>\n",
              "      <td>0</td>\n",
              "      <td>0</td>\n",
              "      <td>0</td>\n",
              "      <td>0</td>\n",
              "      <td>0.2830</td>\n",
              "      <td>0</td>\n",
              "      <td>0.0845</td>\n",
              "      <td>0.693599</td>\n",
              "      <td>1.063408</td>\n",
              "      <td>0.367</td>\n",
              "    </tr>\n",
              "    <tr>\n",
              "      <th>2</th>\n",
              "      <td>0.02730</td>\n",
              "      <td>0.839</td>\n",
              "      <td>0.735975</td>\n",
              "      <td>0.721</td>\n",
              "      <td>0.900000</td>\n",
              "      <td>0</td>\n",
              "      <td>0</td>\n",
              "      <td>0</td>\n",
              "      <td>0</td>\n",
              "      <td>0</td>\n",
              "      <td>0</td>\n",
              "      <td>0</td>\n",
              "      <td>0</td>\n",
              "      <td>1</td>\n",
              "      <td>0</td>\n",
              "      <td>0</td>\n",
              "      <td>0.0667</td>\n",
              "      <td>0</td>\n",
              "      <td>0.0477</td>\n",
              "      <td>0.185104</td>\n",
              "      <td>-0.687980</td>\n",
              "      <td>0.768</td>\n",
              "    </tr>\n",
              "    <tr>\n",
              "      <th>3</th>\n",
              "      <td>0.01430</td>\n",
              "      <td>0.543</td>\n",
              "      <td>-0.522583</td>\n",
              "      <td>0.827</td>\n",
              "      <td>0.000000</td>\n",
              "      <td>1</td>\n",
              "      <td>0</td>\n",
              "      <td>0</td>\n",
              "      <td>0</td>\n",
              "      <td>0</td>\n",
              "      <td>0</td>\n",
              "      <td>0</td>\n",
              "      <td>0</td>\n",
              "      <td>0</td>\n",
              "      <td>0</td>\n",
              "      <td>0</td>\n",
              "      <td>0.0842</td>\n",
              "      <td>0</td>\n",
              "      <td>0.0350</td>\n",
              "      <td>0.954638</td>\n",
              "      <td>1.063408</td>\n",
              "      <td>0.123</td>\n",
              "    </tr>\n",
              "    <tr>\n",
              "      <th>4</th>\n",
              "      <td>0.01080</td>\n",
              "      <td>0.623</td>\n",
              "      <td>-0.288927</td>\n",
              "      <td>0.832</td>\n",
              "      <td>0.000000</td>\n",
              "      <td>1</td>\n",
              "      <td>0</td>\n",
              "      <td>0</td>\n",
              "      <td>0</td>\n",
              "      <td>0</td>\n",
              "      <td>0</td>\n",
              "      <td>0</td>\n",
              "      <td>0</td>\n",
              "      <td>0</td>\n",
              "      <td>0</td>\n",
              "      <td>0</td>\n",
              "      <td>0.0487</td>\n",
              "      <td>0</td>\n",
              "      <td>0.0566</td>\n",
              "      <td>0.998733</td>\n",
              "      <td>1.063408</td>\n",
              "      <td>0.439</td>\n",
              "    </tr>\n",
              "  </tbody>\n",
              "</table>\n",
              "</div>\n",
              "    <div class=\"colab-df-buttons\">\n",
              "\n",
              "  <div class=\"colab-df-container\">\n",
              "    <button class=\"colab-df-convert\" onclick=\"convertToInteractive('df-96b73996-e406-4cf9-ae86-52a1162fa3b9')\"\n",
              "            title=\"Convert this dataframe to an interactive table.\"\n",
              "            style=\"display:none;\">\n",
              "\n",
              "  <svg xmlns=\"http://www.w3.org/2000/svg\" height=\"24px\" viewBox=\"0 -960 960 960\">\n",
              "    <path d=\"M120-120v-720h720v720H120Zm60-500h600v-160H180v160Zm220 220h160v-160H400v160Zm0 220h160v-160H400v160ZM180-400h160v-160H180v160Zm440 0h160v-160H620v160ZM180-180h160v-160H180v160Zm440 0h160v-160H620v160Z\"/>\n",
              "  </svg>\n",
              "    </button>\n",
              "\n",
              "  <style>\n",
              "    .colab-df-container {\n",
              "      display:flex;\n",
              "      gap: 12px;\n",
              "    }\n",
              "\n",
              "    .colab-df-convert {\n",
              "      background-color: #E8F0FE;\n",
              "      border: none;\n",
              "      border-radius: 50%;\n",
              "      cursor: pointer;\n",
              "      display: none;\n",
              "      fill: #1967D2;\n",
              "      height: 32px;\n",
              "      padding: 0 0 0 0;\n",
              "      width: 32px;\n",
              "    }\n",
              "\n",
              "    .colab-df-convert:hover {\n",
              "      background-color: #E2EBFA;\n",
              "      box-shadow: 0px 1px 2px rgba(60, 64, 67, 0.3), 0px 1px 3px 1px rgba(60, 64, 67, 0.15);\n",
              "      fill: #174EA6;\n",
              "    }\n",
              "\n",
              "    .colab-df-buttons div {\n",
              "      margin-bottom: 4px;\n",
              "    }\n",
              "\n",
              "    [theme=dark] .colab-df-convert {\n",
              "      background-color: #3B4455;\n",
              "      fill: #D2E3FC;\n",
              "    }\n",
              "\n",
              "    [theme=dark] .colab-df-convert:hover {\n",
              "      background-color: #434B5C;\n",
              "      box-shadow: 0px 1px 3px 1px rgba(0, 0, 0, 0.15);\n",
              "      filter: drop-shadow(0px 1px 2px rgba(0, 0, 0, 0.3));\n",
              "      fill: #FFFFFF;\n",
              "    }\n",
              "  </style>\n",
              "\n",
              "    <script>\n",
              "      const buttonEl =\n",
              "        document.querySelector('#df-96b73996-e406-4cf9-ae86-52a1162fa3b9 button.colab-df-convert');\n",
              "      buttonEl.style.display =\n",
              "        google.colab.kernel.accessAllowed ? 'block' : 'none';\n",
              "\n",
              "      async function convertToInteractive(key) {\n",
              "        const element = document.querySelector('#df-96b73996-e406-4cf9-ae86-52a1162fa3b9');\n",
              "        const dataTable =\n",
              "          await google.colab.kernel.invokeFunction('convertToInteractive',\n",
              "                                                    [key], {});\n",
              "        if (!dataTable) return;\n",
              "\n",
              "        const docLinkHtml = 'Like what you see? Visit the ' +\n",
              "          '<a target=\"_blank\" href=https://colab.research.google.com/notebooks/data_table.ipynb>data table notebook</a>'\n",
              "          + ' to learn more about interactive tables.';\n",
              "        element.innerHTML = '';\n",
              "        dataTable['output_type'] = 'display_data';\n",
              "        await google.colab.output.renderOutput(dataTable, element);\n",
              "        const docLink = document.createElement('div');\n",
              "        docLink.innerHTML = docLinkHtml;\n",
              "        element.appendChild(docLink);\n",
              "      }\n",
              "    </script>\n",
              "  </div>\n",
              "\n",
              "\n",
              "<div id=\"df-8890cad1-8b91-4e40-bed0-bd659dd3045f\">\n",
              "  <button class=\"colab-df-quickchart\" onclick=\"quickchart('df-8890cad1-8b91-4e40-bed0-bd659dd3045f')\"\n",
              "            title=\"Suggest charts\"\n",
              "            style=\"display:none;\">\n",
              "\n",
              "<svg xmlns=\"http://www.w3.org/2000/svg\" height=\"24px\"viewBox=\"0 0 24 24\"\n",
              "     width=\"24px\">\n",
              "    <g>\n",
              "        <path d=\"M19 3H5c-1.1 0-2 .9-2 2v14c0 1.1.9 2 2 2h14c1.1 0 2-.9 2-2V5c0-1.1-.9-2-2-2zM9 17H7v-7h2v7zm4 0h-2V7h2v10zm4 0h-2v-4h2v4z\"/>\n",
              "    </g>\n",
              "</svg>\n",
              "  </button>\n",
              "\n",
              "<style>\n",
              "  .colab-df-quickchart {\n",
              "      --bg-color: #E8F0FE;\n",
              "      --fill-color: #1967D2;\n",
              "      --hover-bg-color: #E2EBFA;\n",
              "      --hover-fill-color: #174EA6;\n",
              "      --disabled-fill-color: #AAA;\n",
              "      --disabled-bg-color: #DDD;\n",
              "  }\n",
              "\n",
              "  [theme=dark] .colab-df-quickchart {\n",
              "      --bg-color: #3B4455;\n",
              "      --fill-color: #D2E3FC;\n",
              "      --hover-bg-color: #434B5C;\n",
              "      --hover-fill-color: #FFFFFF;\n",
              "      --disabled-bg-color: #3B4455;\n",
              "      --disabled-fill-color: #666;\n",
              "  }\n",
              "\n",
              "  .colab-df-quickchart {\n",
              "    background-color: var(--bg-color);\n",
              "    border: none;\n",
              "    border-radius: 50%;\n",
              "    cursor: pointer;\n",
              "    display: none;\n",
              "    fill: var(--fill-color);\n",
              "    height: 32px;\n",
              "    padding: 0;\n",
              "    width: 32px;\n",
              "  }\n",
              "\n",
              "  .colab-df-quickchart:hover {\n",
              "    background-color: var(--hover-bg-color);\n",
              "    box-shadow: 0 1px 2px rgba(60, 64, 67, 0.3), 0 1px 3px 1px rgba(60, 64, 67, 0.15);\n",
              "    fill: var(--button-hover-fill-color);\n",
              "  }\n",
              "\n",
              "  .colab-df-quickchart-complete:disabled,\n",
              "  .colab-df-quickchart-complete:disabled:hover {\n",
              "    background-color: var(--disabled-bg-color);\n",
              "    fill: var(--disabled-fill-color);\n",
              "    box-shadow: none;\n",
              "  }\n",
              "\n",
              "  .colab-df-spinner {\n",
              "    border: 2px solid var(--fill-color);\n",
              "    border-color: transparent;\n",
              "    border-bottom-color: var(--fill-color);\n",
              "    animation:\n",
              "      spin 1s steps(1) infinite;\n",
              "  }\n",
              "\n",
              "  @keyframes spin {\n",
              "    0% {\n",
              "      border-color: transparent;\n",
              "      border-bottom-color: var(--fill-color);\n",
              "      border-left-color: var(--fill-color);\n",
              "    }\n",
              "    20% {\n",
              "      border-color: transparent;\n",
              "      border-left-color: var(--fill-color);\n",
              "      border-top-color: var(--fill-color);\n",
              "    }\n",
              "    30% {\n",
              "      border-color: transparent;\n",
              "      border-left-color: var(--fill-color);\n",
              "      border-top-color: var(--fill-color);\n",
              "      border-right-color: var(--fill-color);\n",
              "    }\n",
              "    40% {\n",
              "      border-color: transparent;\n",
              "      border-right-color: var(--fill-color);\n",
              "      border-top-color: var(--fill-color);\n",
              "    }\n",
              "    60% {\n",
              "      border-color: transparent;\n",
              "      border-right-color: var(--fill-color);\n",
              "    }\n",
              "    80% {\n",
              "      border-color: transparent;\n",
              "      border-right-color: var(--fill-color);\n",
              "      border-bottom-color: var(--fill-color);\n",
              "    }\n",
              "    90% {\n",
              "      border-color: transparent;\n",
              "      border-bottom-color: var(--fill-color);\n",
              "    }\n",
              "  }\n",
              "</style>\n",
              "\n",
              "  <script>\n",
              "    async function quickchart(key) {\n",
              "      const quickchartButtonEl =\n",
              "        document.querySelector('#' + key + ' button');\n",
              "      quickchartButtonEl.disabled = true;  // To prevent multiple clicks.\n",
              "      quickchartButtonEl.classList.add('colab-df-spinner');\n",
              "      try {\n",
              "        const charts = await google.colab.kernel.invokeFunction(\n",
              "            'suggestCharts', [key], {});\n",
              "      } catch (error) {\n",
              "        console.error('Error during call to suggestCharts:', error);\n",
              "      }\n",
              "      quickchartButtonEl.classList.remove('colab-df-spinner');\n",
              "      quickchartButtonEl.classList.add('colab-df-quickchart-complete');\n",
              "    }\n",
              "    (() => {\n",
              "      let quickchartButtonEl =\n",
              "        document.querySelector('#df-8890cad1-8b91-4e40-bed0-bd659dd3045f button');\n",
              "      quickchartButtonEl.style.display =\n",
              "        google.colab.kernel.accessAllowed ? 'block' : 'none';\n",
              "    })();\n",
              "  </script>\n",
              "</div>\n",
              "    </div>\n",
              "  </div>\n"
            ]
          },
          "metadata": {},
          "execution_count": 15
        }
      ]
    },
    {
      "cell_type": "markdown",
      "source": [
        "## 5. Modelling and prediction\n",
        "\n",
        "\n",
        "1. Recreating the design matrix\n",
        "2. Making a model\n",
        "3. Fit the data\n",
        "4. train the data\n",
        "5. cross validate\n",
        "\n",
        "\n"
      ],
      "metadata": {
        "id": "lRhPpKs11JDM"
      }
    },
    {
      "cell_type": "code",
      "source": [
        "# Recreating the design matrix\n",
        "design_features = ['acousticness', 'instrumentalness', 'loudness', 'danceability'] #selected 4 important features\n",
        "X_resampled = X_resampled[design_features] #take subset of the design_features"
      ],
      "metadata": {
        "id": "Ed2Fvnj-Al1P"
      },
      "execution_count": null,
      "outputs": []
    },
    {
      "cell_type": "code",
      "source": [
        "print(X_resampled.shape)\n",
        "print(y_resampled.shape)"
      ],
      "metadata": {
        "colab": {
          "base_uri": "https://localhost:8080/"
        },
        "id": "09YapJ0oC2tR",
        "outputId": "6ed75be1-a6a8-4c34-ccfc-c7144256f520"
      },
      "execution_count": null,
      "outputs": [
        {
          "output_type": "stream",
          "name": "stdout",
          "text": [
            "(1308831, 4)\n",
            "(1308831,)\n"
          ]
        }
      ]
    },
    {
      "cell_type": "markdown",
      "source": [
        "\n",
        "\n",
        "```\n",
        "# This is formatted as code\n",
        "```\n",
        "\n",
        "## Classification: KNN"
      ],
      "metadata": {
        "id": "d-89mYNlP24X"
      }
    },
    {
      "cell_type": "code",
      "source": [
        "from sklearn.model_selection import train_test_split\n",
        "from sklearn.neighbors import KNeighborsClassifier\n",
        "from sklearn import metrics\n",
        "\n",
        "X_train, X_test, y_train, y_test = train_test_split(X_resampled, y_resampled, random_state=99, test_size=0.5)\n",
        "\n",
        "knn = KNeighborsClassifier(n_neighbors=1)\n",
        "knn.fit(X_train, y_train)\n",
        "\n",
        "y_pred_class = knn.predict(X_test)\n",
        "print(metrics.accuracy_score(y_test, y_pred_class))"
      ],
      "metadata": {
        "colab": {
          "base_uri": "https://localhost:8080/"
        },
        "id": "HQ9-6UbuHsXH",
        "outputId": "21436065-92d4-4425-970b-f85843088940"
      },
      "execution_count": null,
      "outputs": [
        {
          "output_type": "stream",
          "name": "stdout",
          "text": [
            "0.7847959096354612\n"
          ]
        }
      ]
    },
    {
      "cell_type": "code",
      "source": [
        "X_train, X_test, y_train, y_test = train_test_split(X_resampled, y_resampled, random_state=99, test_size=0.3)\n",
        "\n",
        "knn = KNeighborsClassifier(n_neighbors=1)\n",
        "knn.fit(X_train, y_train)\n",
        "\n",
        "y_pred_class = knn.predict(X_test)\n",
        "print(metrics.accuracy_score(y_test, y_pred_class))"
      ],
      "metadata": {
        "colab": {
          "base_uri": "https://localhost:8080/"
        },
        "id": "ZrhfeGuAID4w",
        "outputId": "29286ba3-28dd-4a10-b929-a8129ba752b1"
      },
      "execution_count": null,
      "outputs": [
        {
          "output_type": "stream",
          "name": "stdout",
          "text": [
            "0.8003158028778811\n"
          ]
        }
      ]
    },
    {
      "cell_type": "code",
      "source": [
        "from sklearn.model_selection import cross_val_score\n",
        "k_range = range(1, 21)\n",
        "# list of scores from k_range\n",
        "k_scores = []\n",
        "# 1. we will loop through reasonable values of k\n",
        "for k in k_range:\n",
        "    # 2. run KNeighborsClassifier with k neighbours\n",
        "    knn = KNeighborsClassifier(n_neighbors=k)\n",
        "    # 3. obtain cross_val_score for KNeighborsClassifier with k neighbours\n",
        "    scores = cross_val_score(knn, X_train, y_train, cv=5, scoring='accuracy')\n",
        "    # 4. append mean of scores for k neighbors to k_scores list\n",
        "    k_scores.append(scores.mean())\n",
        "print(k_scores)"
      ],
      "metadata": {
        "id": "vAV-OhrqIQZa",
        "colab": {
          "base_uri": "https://localhost:8080/"
        },
        "outputId": "e287e962-9619-4cd2-ca70-920a010933ce"
      },
      "execution_count": null,
      "outputs": [
        {
          "output_type": "stream",
          "name": "stdout",
          "text": [
            "[0.789192309432458, 0.7624192152383361, 0.769352342725992, 0.7590235981206481, 0.7580565393231917, 0.7518317874542152, 0.7503899322060523, 0.7454083840754002, 0.7430038368120513, 0.7398068712399419, 0.7369231615596847, 0.7340918432594086, 0.7322264917974369, 0.7293591553750072, 0.7272416701243576, 0.7255029302645447, 0.7234542089607261, 0.7216303335403049, 0.7200695066513221, 0.7183351326981438]\n"
          ]
        }
      ]
    },
    {
      "cell_type": "code",
      "source": [
        "k_range = range(21, 27)\n",
        "# list of scores from k_range\n",
        "k_scores = []\n",
        "# 1. we will loop through reasonable values of k\n",
        "for k in k_range:\n",
        "    # 2. run KNeighborsClassifier with k neighbours\n",
        "    knn = KNeighborsClassifier(n_neighbors=k)\n",
        "    # 3. obtain cross_val_score for KNeighborsClassifier with k neighbours\n",
        "    scores = cross_val_score(knn, X_train, y_train, cv=5, scoring='accuracy')\n",
        "    # 4. append mean of scores for k neighbors to k_scores list\n",
        "    k_scores.append(scores.mean())\n",
        "print(k_scores)"
      ],
      "metadata": {
        "colab": {
          "base_uri": "https://localhost:8080/"
        },
        "id": "4c3ytOjZrB2Z",
        "outputId": "e11d471f-b2df-44cd-89b0-96912024af77"
      },
      "execution_count": null,
      "outputs": [
        {
          "output_type": "stream",
          "name": "stdout",
          "text": [
            "[0.7166826211443758, 0.7156031397507093, 0.713913517228087, 0.7126855934839205, 0.7112873981300877, 0.7099808874589103]\n"
          ]
        }
      ]
    },
    {
      "cell_type": "code",
      "source": [
        "k_range = range(27, 37)\n",
        "# list of scores from k_range\n",
        "k_scores = []\n",
        "# 1. we will loop through reasonable values of k\n",
        "for k in k_range:\n",
        "    # 2. run KNeighborsClassifier with k neighbours\n",
        "    knn = KNeighborsClassifier(n_neighbors=k)\n",
        "    # 3. obtain cross_val_score for KNeighborsClassifier with k neighbours\n",
        "    scores = cross_val_score(knn, X_train, y_train, cv=5, scoring='accuracy')\n",
        "    # 4. append mean of scores for k neighbors to k_scores list\n",
        "    k_scores.append(scores.mean())\n",
        "print(k_scores)"
      ],
      "metadata": {
        "colab": {
          "base_uri": "https://localhost:8080/"
        },
        "id": "2ExJQ79PxRdJ",
        "outputId": "61718427-03f1-4306-e3f7-737f9ab61a37"
      },
      "execution_count": null,
      "outputs": [
        {
          "output_type": "stream",
          "name": "stdout",
          "text": [
            "[0.7088326430774423, 0.707605811340081, 0.7061999759712994, 0.7048803675921309, 0.7038761991839488, 0.702731229256284, 0.7017412497825701, 0.700916085577652, 0.6994764134972478, 0.6987505748060026]\n"
          ]
        }
      ]
    },
    {
      "cell_type": "code",
      "source": [
        "k_range = range(37, 47)\n",
        "# list of scores from k_range\n",
        "k_scores = []\n",
        "# 1. we will loop through reasonable values of k\n",
        "for k in k_range:\n",
        "    # 2. run KNeighborsClassifier with k neighbours\n",
        "    knn = KNeighborsClassifier(n_neighbors=k)\n",
        "    # 3. obtain cross_val_score for KNeighborsClassifier with k neighbours\n",
        "    scores = cross_val_score(knn, X_train, y_train, cv=5, scoring='accuracy')\n",
        "    # 4. append mean of scores for k neighbors to k_scores list\n",
        "    k_scores.append(scores.mean())\n",
        "print(k_scores)"
      ],
      "metadata": {
        "colab": {
          "base_uri": "https://localhost:8080/"
        },
        "id": "DEiDM1Vn5yfW",
        "outputId": "f7f24dc6-e217-43b5-9ef7-911dff3b0470"
      },
      "execution_count": null,
      "outputs": [
        {
          "output_type": "stream",
          "name": "stdout",
          "text": [
            "[0.697784608063005, 0.6968994121534084, 0.6958155652939032, 0.6951694050241974, 0.6941215770552607, 0.6934612271541523, 0.6924865288778503, 0.6917574150775646, 0.690733599845301, 0.6902817242435964]\n"
          ]
        }
      ]
    },
    {
      "cell_type": "code",
      "source": [
        "k_range = range(87, 95)\n",
        "# list of scores from k_range\n",
        "k_scores = []\n",
        "# 1. we will loop through reasonable values of k\n",
        "for k in k_range:\n",
        "    # 2. run KNeighborsClassifier with k neighbours\n",
        "    knn = KNeighborsClassifier(n_neighbors=k)\n",
        "    # 3. obtain cross_val_score for KNeighborsClassifier with k neighbours\n",
        "    scores = cross_val_score(knn, X_train, y_train, cv=5, scoring='accuracy')\n",
        "    # 4. append mean of scores for k neighbors to k_scores list\n",
        "    k_scores.append(scores.mean())\n",
        "print(k_scores)"
      ],
      "metadata": {
        "colab": {
          "base_uri": "https://localhost:8080/"
        },
        "id": "tYr91fxEBwzk",
        "outputId": "757c27d8-29db-4dbc-ac62-ef49c158fa0c"
      },
      "execution_count": null,
      "outputs": [
        {
          "output_type": "stream",
          "name": "stdout",
          "text": [
            "[0.6677010331933956, 0.6672393339562738, 0.6670330431582042, 0.6667186947770538, 0.6662897401494419, 0.66596229397095, 0.6654427460182072, 0.6651676912613932]\n"
          ]
        }
      ]
    },
    {
      "cell_type": "code",
      "source": [
        "k_dict=dict(zip(k_range,k_scores))\n",
        "k_dict"
      ],
      "metadata": {
        "colab": {
          "base_uri": "https://localhost:8080/"
        },
        "id": "r-xkCOduHonn",
        "outputId": "dd380d3d-f3a5-4cf6-921d-1f91e6a2fd8c"
      },
      "execution_count": null,
      "outputs": [
        {
          "output_type": "execute_result",
          "data": {
            "text/plain": [
              "{87: 0.6677010331933956,\n",
              " 88: 0.6672393339562738,\n",
              " 89: 0.6670330431582042,\n",
              " 90: 0.6667186947770538,\n",
              " 91: 0.6662897401494419,\n",
              " 92: 0.66596229397095,\n",
              " 93: 0.6654427460182072,\n",
              " 94: 0.6651676912613932}"
            ]
          },
          "metadata": {},
          "execution_count": 28
        }
      ]
    },
    {
      "cell_type": "code",
      "source": [
        "max(k_dict, key= k_dict.get)"
      ],
      "metadata": {
        "colab": {
          "base_uri": "https://localhost:8080/"
        },
        "id": "0CkMrnsFH1-x",
        "outputId": "b1f9cc44-72c8-4d83-ec41-0c48dd5c1f5f"
      },
      "execution_count": null,
      "outputs": [
        {
          "output_type": "execute_result",
          "data": {
            "text/plain": [
              "87"
            ]
          },
          "metadata": {},
          "execution_count": 29
        }
      ]
    },
    {
      "cell_type": "code",
      "source": [
        "plt.plot(k_range, k_scores)\n",
        "plt.xlabel('Value of K for KNN')\n",
        "plt.ylabel('Cross-Validated Accuracy')"
      ],
      "metadata": {
        "colab": {
          "base_uri": "https://localhost:8080/",
          "height": 466
        },
        "id": "ppPz0kDlICWL",
        "outputId": "ccf35faf-0f21-42d4-ecd6-0c14943233e6"
      },
      "execution_count": null,
      "outputs": [
        {
          "output_type": "execute_result",
          "data": {
            "text/plain": [
              "Text(0, 0.5, 'Cross-Validated Accuracy')"
            ]
          },
          "metadata": {},
          "execution_count": 30
        },
        {
          "output_type": "display_data",
          "data": {
            "text/plain": [
              "<Figure size 640x480 with 1 Axes>"
            ],
            "image/png": "[encoded data removed]"
          },
          "metadata": {}
        }
      ]
    },
    {
      "cell_type": "code",
      "source": [
        "k_range = range(107, 115)\n",
        "# list of scores from k_range\n",
        "k_scores = []\n",
        "# 1. we will loop through reasonable values of k\n",
        "for k in k_range:\n",
        "    # 2. run KNeighborsClassifier with k neighbours\n",
        "    knn = KNeighborsClassifier(n_neighbors=k)\n",
        "    # 3. obtain cross_val_score for KNeighborsClassifier with k neighbours\n",
        "    scores = cross_val_score(knn, X_train, y_train, cv=5, scoring='accuracy')\n",
        "    # 4. append mean of scores for k neighbors to k_scores list\n",
        "    k_scores.append(scores.mean())\n",
        "print(k_scores)"
      ],
      "metadata": {
        "colab": {
          "base_uri": "https://localhost:8080/"
        },
        "id": "uTUkSFXHIRs9",
        "outputId": "a5fdd292-a6d9-4140-a1d0-b668aee1b281"
      },
      "execution_count": null,
      "outputs": [
        {
          "output_type": "stream",
          "name": "stdout",
          "text": [
            "[0.6606478421474649, 0.660331310455595, 0.6599962236664836, 0.6597735603790014, 0.6595126949855382, 0.6591077531779932, 0.6587792156062365, 0.6584648668379004]\n"
          ]
        }
      ]
    },
    {
      "cell_type": "code",
      "source": [
        "plt.plot(k_range, k_scores)\n",
        "plt.xlabel('Value of K for KNN')\n",
        "plt.ylabel('Cross-Validated Accuracy')"
      ],
      "metadata": {
        "colab": {
          "base_uri": "https://localhost:8080/",
          "height": 466
        },
        "id": "KshbAZGzOq82",
        "outputId": "e406565f-e453-40cf-97b7-b58d94e23d62"
      },
      "execution_count": null,
      "outputs": [
        {
          "output_type": "execute_result",
          "data": {
            "text/plain": [
              "Text(0, 0.5, 'Cross-Validated Accuracy')"
            ]
          },
          "metadata": {},
          "execution_count": 32
        },
        {
          "output_type": "display_data",
          "data": {
            "text/plain": [
              "<Figure size 640x480 with 1 Axes>"
            ],
            "image/png": "[encoded data removed]"
          },
          "metadata": {}
        }
      ]
    },
    {
      "cell_type": "code",
      "source": [
        "from sklearn.model_selection import RandomizedSearchCV\n",
        "k_range2 = range(1, 22)\n",
        "param_dist = dict(n_neighbors=k_range2)"
      ],
      "metadata": {
        "id": "cnwTT264OvJU"
      },
      "execution_count": null,
      "outputs": []
    },
    {
      "cell_type": "code",
      "source": [
        "rand = RandomizedSearchCV(knn, param_dist, cv=5, scoring='accuracy', n_iter=5, random_state=5)"
      ],
      "metadata": {
        "id": "k_kGL01CO0nm"
      },
      "execution_count": null,
      "outputs": []
    },
    {
      "cell_type": "code",
      "source": [
        "rand.fit(X_train, y_train)"
      ],
      "metadata": {
        "colab": {
          "base_uri": "https://localhost:8080/",
          "height": 161
        },
        "id": "uiOBu1OmO4QZ",
        "outputId": "2a6f87b1-4fe3-4d8a-8ea3-df9d1f12d23c"
      },
      "execution_count": null,
      "outputs": [
        {
          "output_type": "execute_result",
          "data": {
            "text/plain": [
              "RandomizedSearchCV(cv=5, estimator=KNeighborsClassifier(n_neighbors=114),\n",
              "                   n_iter=5, param_distributions={'n_neighbors': range(1, 22)},\n",
              "                   random_state=5, scoring='accuracy')"
            ],
            "text/html": [
              "<style>#sk-container-id-1 {color: black;background-color: white;}#sk-container-id-1 pre{padding: 0;}#sk-container-id-1 div.sk-toggleable {background-color: white;}#sk-container-id-1 label.sk-toggleable__label {cursor: pointer;display: block;width: 100%;margin-bottom: 0;padding: 0.3em;box-sizing: border-box;text-align: center;}#sk-container-id-1 label.sk-toggleable__label-arrow:before {content: \"▸\";float: left;margin-right: 0.25em;color: #696969;}#sk-container-id-1 label.sk-toggleable__label-arrow:hover:before {color: black;}#sk-container-id-1 div.sk-estimator:hover label.sk-toggleable__label-arrow:before {color: black;}#sk-container-id-1 div.sk-toggleable__content {max-height: 0;max-width: 0;overflow: hidden;text-align: left;background-color: #f0f8ff;}#sk-container-id-1 div.sk-toggleable__content pre {margin: 0.2em;color: black;border-radius: 0.25em;background-color: #f0f8ff;}#sk-container-id-1 input.sk-toggleable__control:checked~div.sk-toggleable__content {max-height: 200px;max-width: 100%;overflow: auto;}#sk-container-id-1 input.sk-toggleable__control:checked~label.sk-toggleable__label-arrow:before {content: \"▾\";}#sk-container-id-1 div.sk-estimator input.sk-toggleable__control:checked~label.sk-toggleable__label {background-color: #d4ebff;}#sk-container-id-1 div.sk-label input.sk-toggleable__control:checked~label.sk-toggleable__label {background-color: #d4ebff;}#sk-container-id-1 input.sk-hidden--visually {border: 0;clip: rect(1px 1px 1px 1px);clip: rect(1px, 1px, 1px, 1px);height: 1px;margin: -1px;overflow: hidden;padding: 0;position: absolute;width: 1px;}#sk-container-id-1 div.sk-estimator {font-family: monospace;background-color: #f0f8ff;border: 1px dotted black;border-radius: 0.25em;box-sizing: border-box;margin-bottom: 0.5em;}#sk-container-id-1 div.sk-estimator:hover {background-color: #d4ebff;}#sk-container-id-1 div.sk-parallel-item::after {content: \"\";width: 100%;border-bottom: 1px solid gray;flex-grow: 1;}#sk-container-id-1 div.sk-label:hover label.sk-toggleable__label {background-color: #d4ebff;}#sk-container-id-1 div.sk-serial::before {content: \"\";position: absolute;border-left: 1px solid gray;box-sizing: border-box;top: 0;bottom: 0;left: 50%;z-index: 0;}#sk-container-id-1 div.sk-serial {display: flex;flex-direction: column;align-items: center;background-color: white;padding-right: 0.2em;padding-left: 0.2em;position: relative;}#sk-container-id-1 div.sk-item {position: relative;z-index: 1;}#sk-container-id-1 div.sk-parallel {display: flex;align-items: stretch;justify-content: center;background-color: white;position: relative;}#sk-container-id-1 div.sk-item::before, #sk-container-id-1 div.sk-parallel-item::before {content: \"\";position: absolute;border-left: 1px solid gray;box-sizing: border-box;top: 0;bottom: 0;left: 50%;z-index: -1;}#sk-container-id-1 div.sk-parallel-item {display: flex;flex-direction: column;z-index: 1;position: relative;background-color: white;}#sk-container-id-1 div.sk-parallel-item:first-child::after {align-self: flex-end;width: 50%;}#sk-container-id-1 div.sk-parallel-item:last-child::after {align-self: flex-start;width: 50%;}#sk-container-id-1 div.sk-parallel-item:only-child::after {width: 0;}#sk-container-id-1 div.sk-dashed-wrapped {border: 1px dashed gray;margin: 0 0.4em 0.5em 0.4em;box-sizing: border-box;padding-bottom: 0.4em;background-color: white;}#sk-container-id-1 div.sk-label label {font-family: monospace;font-weight: bold;display: inline-block;line-height: 1.2em;}#sk-container-id-1 div.sk-label-container {text-align: center;}#sk-container-id-1 div.sk-container {/* jupyter's `normalize.less` sets `[hidden] { display: none; }` but bootstrap.min.css set `[hidden] { display: none !important; }` so we also need the `!important` here to be able to override the default hidden behavior on the sphinx rendered scikit-learn.org. See: https://github.com/scikit-learn/scikit-learn/issues/21755 */display: inline-block !important;position: relative;}#sk-container-id-1 div.sk-text-repr-fallback {display: none;}</style><div id=\"sk-container-id-1\" class=\"sk-top-container\"><div class=\"sk-text-repr-fallback\"><pre>RandomizedSearchCV(cv=5, estimator=KNeighborsClassifier(n_neighbors=114),\n",
              "                   n_iter=5, param_distributions={&#x27;n_neighbors&#x27;: range(1, 22)},\n",
              "                   random_state=5, scoring=&#x27;accuracy&#x27;)</pre><b>In a Jupyter environment, please rerun this cell to show the HTML representation or trust the notebook. <br />On GitHub, the HTML representation is unable to render, please try loading this page with nbviewer.org.</b></div><div class=\"sk-container\" hidden><div class=\"sk-item sk-dashed-wrapped\"><div class=\"sk-label-container\"><div class=\"sk-label sk-toggleable\"><input class=\"sk-toggleable__control sk-hidden--visually\" id=\"sk-estimator-id-1\" type=\"checkbox\" ><label for=\"sk-estimator-id-1\" class=\"sk-toggleable__label sk-toggleable__label-arrow\">RandomizedSearchCV</label><div class=\"sk-toggleable__content\"><pre>RandomizedSearchCV(cv=5, estimator=KNeighborsClassifier(n_neighbors=114),\n",
              "                   n_iter=5, param_distributions={&#x27;n_neighbors&#x27;: range(1, 22)},\n",
              "                   random_state=5, scoring=&#x27;accuracy&#x27;)</pre></div></div></div><div class=\"sk-parallel\"><div class=\"sk-parallel-item\"><div class=\"sk-item\"><div class=\"sk-label-container\"><div class=\"sk-label sk-toggleable\"><input class=\"sk-toggleable__control sk-hidden--visually\" id=\"sk-estimator-id-2\" type=\"checkbox\" ><label for=\"sk-estimator-id-2\" class=\"sk-toggleable__label sk-toggleable__label-arrow\">estimator: KNeighborsClassifier</label><div class=\"sk-toggleable__content\"><pre>KNeighborsClassifier(n_neighbors=114)</pre></div></div></div><div class=\"sk-serial\"><div class=\"sk-item\"><div class=\"sk-estimator sk-toggleable\"><input class=\"sk-toggleable__control sk-hidden--visually\" id=\"sk-estimator-id-3\" type=\"checkbox\" ><label for=\"sk-estimator-id-3\" class=\"sk-toggleable__label sk-toggleable__label-arrow\">KNeighborsClassifier</label><div class=\"sk-toggleable__content\"><pre>KNeighborsClassifier(n_neighbors=114)</pre></div></div></div></div></div></div></div></div></div></div>"
            ]
          },
          "metadata": {},
          "execution_count": 35
        }
      ]
    },
    {
      "cell_type": "code",
      "source": [
        "rand.cv_results_"
      ],
      "metadata": {
        "colab": {
          "base_uri": "https://localhost:8080/"
        },
        "id": "DmtZYZlvSAD9",
        "outputId": "25a22e6a-b123-4e3d-898f-200ae9037a35"
      },
      "execution_count": null,
      "outputs": [
        {
          "output_type": "execute_result",
          "data": {
            "text/plain": [
              "{'mean_fit_time': array([3.14403558, 3.0739079 , 2.68185196, 2.98015084, 2.71753812]),\n",
              " 'std_fit_time': array([0.78569602, 0.77604011, 0.61224521, 0.89948181, 0.75236546]),\n",
              " 'mean_score_time': array([15.37275634, 19.83544879, 19.55183024, 20.12275486, 19.86339421]),\n",
              " 'std_score_time': array([0.85038828, 0.27284325, 0.43725171, 0.53858944, 0.54222652]),\n",
              " 'param_n_neighbors': masked_array(data=[3, 18, 20, 21, 19],\n",
              "              mask=[False, False, False, False, False],\n",
              "        fill_value='?',\n",
              "             dtype=object),\n",
              " 'params': [{'n_neighbors': 3},\n",
              "  {'n_neighbors': 18},\n",
              "  {'n_neighbors': 20},\n",
              "  {'n_neighbors': 21},\n",
              "  {'n_neighbors': 19}],\n",
              " 'split0_test_score': array([0.7706413 , 0.72101704, 0.71812461, 0.71615995, 0.71939619]),\n",
              " 'split1_test_score': array([0.76992512, 0.72288197, 0.71973302, 0.71811762, 0.7213266 ]),\n",
              " 'split2_test_score': array([0.76906285, 0.72048069, 0.71677509, 0.71552533, 0.71897989]),\n",
              " 'split3_test_score': array([0.76850619, 0.72237442, 0.71887075, 0.71704796, 0.7206717 ]),\n",
              " 'split4_test_score': array([0.76862625, 0.72139754, 0.71817219, 0.71656225, 0.71997315]),\n",
              " 'mean_test_score': array([0.76935234, 0.72163033, 0.71833513, 0.71668262, 0.72006951]),\n",
              " 'std_test_score': array([0.00081443, 0.00088003, 0.00097423, 0.00087403, 0.00084768]),\n",
              " 'rank_test_score': array([1, 2, 4, 5, 3], dtype=int32)}"
            ]
          },
          "metadata": {},
          "execution_count": 36
        }
      ]
    },
    {
      "cell_type": "code",
      "source": [
        "# The best model\n",
        "print(rand.best_score_)\n",
        "print(rand.best_params_)\n",
        "print(rand.best_estimator_)"
      ],
      "metadata": {
        "colab": {
          "base_uri": "https://localhost:8080/"
        },
        "id": "mQNLQMS7SMsB",
        "outputId": "d0f5080c-0921-4806-9bdb-efd066c2253f"
      },
      "execution_count": null,
      "outputs": [
        {
          "output_type": "stream",
          "name": "stdout",
          "text": [
            "0.769352342725992\n",
            "{'n_neighbors': 3}\n",
            "KNeighborsClassifier(n_neighbors=3)\n"
          ]
        }
      ]
    },
    {
      "cell_type": "code",
      "source": [
        "from sklearn.metrics import classification_report\n",
        "print(classification_report(y_test,y_pred_class))"
      ],
      "metadata": {
        "colab": {
          "base_uri": "https://localhost:8080/"
        },
        "id": "p79LP7sMSvvv",
        "outputId": "6377c0f4-4d2b-4adf-c5d0-f7219a141170"
      },
      "execution_count": null,
      "outputs": [
        {
          "output_type": "stream",
          "name": "stdout",
          "text": [
            "              precision    recall  f1-score   support\n",
            "\n",
            "        high       0.94      1.00      0.97    131264\n",
            "         low       0.75      0.65      0.70    130755\n",
            "      medium       0.70      0.75      0.73    130631\n",
            "\n",
            "    accuracy                           0.80    392650\n",
            "   macro avg       0.80      0.80      0.80    392650\n",
            "weighted avg       0.80      0.80      0.80    392650\n",
            "\n"
          ]
        }
      ]
    },
    {
      "cell_type": "code",
      "source": [
        "#Fake entry\n",
        "new_track = pd.DataFrame({\n",
        "    'acousticness': 0.16,\n",
        "    'instrumentalness': .003 ,\n",
        "    'loudness': -1.2,\n",
        "    'danceability': .2,\n",
        "}, index=[0])"
      ],
      "metadata": {
        "id": "FieDaik2S9yK"
      },
      "execution_count": null,
      "outputs": []
    },
    {
      "cell_type": "code",
      "source": [
        "import numpy as np\n",
        "rand = KNeighborsClassifier(n_neighbors=3)\n",
        "rand.fit(X_train, y_train)\n",
        "rand.predict(new_track)"
      ],
      "metadata": {
        "colab": {
          "base_uri": "https://localhost:8080/"
        },
        "id": "Ch8A_ETaTBY6",
        "outputId": "4d970caf-c532-4d59-f15e-b5e568741b51"
      },
      "execution_count": null,
      "outputs": [
        {
          "output_type": "execute_result",
          "data": {
            "text/plain": [
              "array(['low'], dtype=object)"
            ]
          },
          "metadata": {},
          "execution_count": 45
        }
      ]
    }
  ]
}